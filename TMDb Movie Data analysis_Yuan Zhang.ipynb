{
 "cells": [
  {
   "cell_type": "markdown",
   "metadata": {},
   "source": [
    "# Project: TMDb Movie Data\n",
    "---\n",
    "## Table of Contents\n",
    "### Introduction\n",
    "### Data Wrangling\n",
    "   - General Properties\n",
    "   - Cleaning Data\n",
    " \n",
    "### Exploratory Data Analysis\n",
    "   - Preparing Data Analysis\n",
    "   - Research Questions\n",
    "\n",
    "   **Research Part 1: General Explore**\n",
    "   - Question 1: Movies which made most and least profit\n",
    "   - Question 2: Popularity Over Years\n",
    "   - Question 3: The distribution of revenue in different popularity levels in recent five years.\n",
    "   - Question 4: The distribution of revenue in different score rating levels in recent five years.\n",
    "   \n",
    "   **Research Part 2 : Find the Properties are Associated with Successful Movies**\n",
    "   - Question 1. What's the budget level movie are associated with movies that have high popularity?\n",
    "   - Question 2. What's the runtime level are associated with movies that have high popularity on average?\n",
    "   - Question 3. What's casts, directors,genres are associated with high popularity?\n",
    "\n",
    "### Conclusion\n",
    "\n",
    "### Limitation"
   ]
  },
  {
   "cell_type": "markdown",
   "metadata": {},
   "source": [
    "<a id='intro'></a>\n",
    "## Introduction"
   ]
  },
  {
   "cell_type": "markdown",
   "metadata": {},
   "source": [
    ">For this Data Analyst project, I selected the TMDb movie dataset from kaggle to investigate. According to kaggle introduction [page](https://www.kaggle.com/tmdb/tmdb-movie-metadata), the data contains information that are provided from The Movie Database (TMDb). It collects 5000+ movies and their rating and basic move information, including user ratings and revenue data.\n",
    "\n",
    "> ### The potiental problem that can be discussed in the dataset:\n",
    "Accroding Kaggle data overview, the dataset provides some metrics that measure how successful these movies are. These metrics include popularity, revenue and vote average. It also contains some basic information corresponding to the movie like cast, director, keywords, runtime, genres, etc. Any of the basic information can be a key to a success movie. More specificly, these factors can be classified to two categrories as follows:\n",
    "#### Metrics  for Evaluating the Success Movie\n",
    "- popularity\n",
    "- revenue\n",
    "- vote average score\n",
    "\n",
    ">#### Potential Key to Affect the Success of a Movie\n",
    "- Budget\n",
    "- Cast\n",
    "- Director\n",
    "- Tagline\n",
    "- Keywords\n",
    "- Runtime\n",
    "- Genres\n",
    "- Production Companies\n",
    "- Release Date\n",
    "- Vote Average"
   ]
  },
  {
   "cell_type": "markdown",
   "metadata": {},
   "source": [
    "> Since the dataset is featured with the rating of movies as mentioned above, it contains plentiful information for exploring the properties that are associated with successful movies, which can be defined by high popularity, high revenue and high rating score  movies. Besides, the dataset also contains the movie released year, so it also can let us to explore the trend in these movie metrics. Therefore, the qestions I am going to explore are including three parts:\n",
    "\n",
    ">**Research Part 1: General Explore**\n",
    "   - Question 1: Movies which made most and least profit\n",
    "   - Question 2: Popularity Over Years\n",
    "   - Question 3: The distribution of revenue in different popularity levels in recent five years.\n",
    "   - Question 4: The distribution of revenue in different score rating levels in recent five years.\n",
    "   \n",
    ">**Research Part 2 : Find the Properties are Associated with Successful Movies**\n",
    "   - Question 1: What kinds of properties are associated with movies that have high popularity?\n",
    "   - Question 2: What kinds of properties are associated with movies that have high voting score?"
   ]
  },
  {
   "cell_type": "markdown",
   "metadata": {},
   "source": [
    "<a id='wrangling'></a>\n",
    "## Data Wrangling\n",
    "\n",
    "### General Dataset Properties "
   ]
  },
  {
   "cell_type": "markdown",
   "metadata": {},
   "source": [
    "**First, let's look what the dataset looks like for preceeding to investigate.**"
   ]
  },
  {
   "cell_type": "code",
   "execution_count": 1,
   "metadata": {
    "collapsed": true
   },
   "outputs": [],
   "source": [
    "# Import statements for all of the packages that I plan to use.\n",
    "import pandas as pd\n",
    "import numpy as np\n",
    "import matplotlib.pyplot as plt\n",
    "import seaborn as sns\n",
    "from collections import Counter\n",
    "% matplotlib inline"
   ]
  },
  {
   "cell_type": "code",
   "execution_count": 2,
   "metadata": {},
   "outputs": [
    {
     "data": {
      "text/html": [
       "<div>\n",
       "<style>\n",
       "    .dataframe thead tr:only-child th {\n",
       "        text-align: right;\n",
       "    }\n",
       "\n",
       "    .dataframe thead th {\n",
       "        text-align: left;\n",
       "    }\n",
       "\n",
       "    .dataframe tbody tr th {\n",
       "        vertical-align: top;\n",
       "    }\n",
       "</style>\n",
       "<table border=\"1\" class=\"dataframe\">\n",
       "  <thead>\n",
       "    <tr style=\"text-align: right;\">\n",
       "      <th></th>\n",
       "      <th>id</th>\n",
       "      <th>imdb_id</th>\n",
       "      <th>popularity</th>\n",
       "      <th>budget</th>\n",
       "      <th>revenue</th>\n",
       "      <th>original_title</th>\n",
       "      <th>cast</th>\n",
       "      <th>homepage</th>\n",
       "      <th>director</th>\n",
       "      <th>tagline</th>\n",
       "      <th>...</th>\n",
       "      <th>overview</th>\n",
       "      <th>runtime</th>\n",
       "      <th>genres</th>\n",
       "      <th>production_companies</th>\n",
       "      <th>release_date</th>\n",
       "      <th>vote_count</th>\n",
       "      <th>vote_average</th>\n",
       "      <th>release_year</th>\n",
       "      <th>budget_adj</th>\n",
       "      <th>revenue_adj</th>\n",
       "    </tr>\n",
       "  </thead>\n",
       "  <tbody>\n",
       "    <tr>\n",
       "      <th>0</th>\n",
       "      <td>135397</td>\n",
       "      <td>tt0369610</td>\n",
       "      <td>32.985763</td>\n",
       "      <td>150000000</td>\n",
       "      <td>1513528810</td>\n",
       "      <td>Jurassic World</td>\n",
       "      <td>Chris Pratt|Bryce Dallas Howard|Irrfan Khan|Vi...</td>\n",
       "      <td>http://www.jurassicworld.com/</td>\n",
       "      <td>Colin Trevorrow</td>\n",
       "      <td>The park is open.</td>\n",
       "      <td>...</td>\n",
       "      <td>Twenty-two years after the events of Jurassic ...</td>\n",
       "      <td>124</td>\n",
       "      <td>Action|Adventure|Science Fiction|Thriller</td>\n",
       "      <td>Universal Studios|Amblin Entertainment|Legenda...</td>\n",
       "      <td>6/9/15</td>\n",
       "      <td>5562</td>\n",
       "      <td>6.5</td>\n",
       "      <td>2015</td>\n",
       "      <td>1.379999e+08</td>\n",
       "      <td>1.392446e+09</td>\n",
       "    </tr>\n",
       "  </tbody>\n",
       "</table>\n",
       "<p>1 rows × 21 columns</p>\n",
       "</div>"
      ],
      "text/plain": [
       "       id    imdb_id  popularity     budget     revenue  original_title  \\\n",
       "0  135397  tt0369610   32.985763  150000000  1513528810  Jurassic World   \n",
       "\n",
       "                                                cast  \\\n",
       "0  Chris Pratt|Bryce Dallas Howard|Irrfan Khan|Vi...   \n",
       "\n",
       "                        homepage         director            tagline  \\\n",
       "0  http://www.jurassicworld.com/  Colin Trevorrow  The park is open.   \n",
       "\n",
       "       ...                                                overview runtime  \\\n",
       "0      ...       Twenty-two years after the events of Jurassic ...     124   \n",
       "\n",
       "                                      genres  \\\n",
       "0  Action|Adventure|Science Fiction|Thriller   \n",
       "\n",
       "                                production_companies release_date vote_count  \\\n",
       "0  Universal Studios|Amblin Entertainment|Legenda...       6/9/15       5562   \n",
       "\n",
       "   vote_average  release_year    budget_adj   revenue_adj  \n",
       "0           6.5          2015  1.379999e+08  1.392446e+09  \n",
       "\n",
       "[1 rows x 21 columns]"
      ]
     },
     "execution_count": 2,
     "metadata": {},
     "output_type": "execute_result"
    }
   ],
   "source": [
    "# Load the data and print out a few lines. Perform operations to inspect data\n",
    "#   types and look for instances of missing or possibly errant data.\n",
    "df = pd.read_csv('tmdb-movies (1).csv')\n",
    "df.head(1)"
   ]
  },
  {
   "cell_type": "markdown",
   "metadata": {},
   "source": [
    "**Then, find the basic information of the dataset.**"
   ]
  },
  {
   "cell_type": "code",
   "execution_count": 3,
   "metadata": {},
   "outputs": [
    {
     "name": "stdout",
     "output_type": "stream",
     "text": [
      "<class 'pandas.core.frame.DataFrame'>\n",
      "RangeIndex: 10866 entries, 0 to 10865\n",
      "Data columns (total 21 columns):\n",
      "id                      10866 non-null int64\n",
      "imdb_id                 10856 non-null object\n",
      "popularity              10866 non-null float64\n",
      "budget                  10866 non-null int64\n",
      "revenue                 10866 non-null int64\n",
      "original_title          10866 non-null object\n",
      "cast                    10790 non-null object\n",
      "homepage                2936 non-null object\n",
      "director                10822 non-null object\n",
      "tagline                 8042 non-null object\n",
      "keywords                9373 non-null object\n",
      "overview                10862 non-null object\n",
      "runtime                 10866 non-null int64\n",
      "genres                  10843 non-null object\n",
      "production_companies    9836 non-null object\n",
      "release_date            10866 non-null object\n",
      "vote_count              10866 non-null int64\n",
      "vote_average            10866 non-null float64\n",
      "release_year            10866 non-null int64\n",
      "budget_adj              10866 non-null float64\n",
      "revenue_adj             10866 non-null float64\n",
      "dtypes: float64(4), int64(6), object(11)\n",
      "memory usage: 1.7+ MB\n"
     ]
    }
   ],
   "source": [
    "#see the column info and null values in the dataset\n",
    "df.info()"
   ]
  },
  {
   "cell_type": "markdown",
   "metadata": {},
   "source": [
    "From the table above, there are totally 10866 entries and total 21 columns. And there exists some null value in the cast, director, overview and genres columns. But some columns are with **a lot of null value rows** like `homepage`, `tagline`, `keywords` and `production_companies`, especially the **`homepage`** and **`tagline`** columns are even not necessary for answering the question, so I decide to drop both of the columns on the stage."
   ]
  },
  {
   "cell_type": "markdown",
   "metadata": {},
   "source": [
    "Let's see some descriptive statistics for the data set."
   ]
  },
  {
   "cell_type": "code",
   "execution_count": 4,
   "metadata": {},
   "outputs": [
    {
     "data": {
      "text/html": [
       "<div>\n",
       "<style>\n",
       "    .dataframe thead tr:only-child th {\n",
       "        text-align: right;\n",
       "    }\n",
       "\n",
       "    .dataframe thead th {\n",
       "        text-align: left;\n",
       "    }\n",
       "\n",
       "    .dataframe tbody tr th {\n",
       "        vertical-align: top;\n",
       "    }\n",
       "</style>\n",
       "<table border=\"1\" class=\"dataframe\">\n",
       "  <thead>\n",
       "    <tr style=\"text-align: right;\">\n",
       "      <th></th>\n",
       "      <th>id</th>\n",
       "      <th>popularity</th>\n",
       "      <th>budget</th>\n",
       "      <th>revenue</th>\n",
       "      <th>runtime</th>\n",
       "      <th>vote_count</th>\n",
       "      <th>vote_average</th>\n",
       "      <th>release_year</th>\n",
       "      <th>budget_adj</th>\n",
       "      <th>revenue_adj</th>\n",
       "    </tr>\n",
       "  </thead>\n",
       "  <tbody>\n",
       "    <tr>\n",
       "      <th>count</th>\n",
       "      <td>10866.000000</td>\n",
       "      <td>10866.000000</td>\n",
       "      <td>1.086600e+04</td>\n",
       "      <td>1.086600e+04</td>\n",
       "      <td>10866.000000</td>\n",
       "      <td>10866.000000</td>\n",
       "      <td>10866.000000</td>\n",
       "      <td>10866.000000</td>\n",
       "      <td>1.086600e+04</td>\n",
       "      <td>1.086600e+04</td>\n",
       "    </tr>\n",
       "    <tr>\n",
       "      <th>mean</th>\n",
       "      <td>66064.177434</td>\n",
       "      <td>0.646441</td>\n",
       "      <td>1.462570e+07</td>\n",
       "      <td>3.982332e+07</td>\n",
       "      <td>102.070863</td>\n",
       "      <td>217.389748</td>\n",
       "      <td>5.974922</td>\n",
       "      <td>2001.322658</td>\n",
       "      <td>1.755104e+07</td>\n",
       "      <td>5.136436e+07</td>\n",
       "    </tr>\n",
       "    <tr>\n",
       "      <th>std</th>\n",
       "      <td>92130.136561</td>\n",
       "      <td>1.000185</td>\n",
       "      <td>3.091321e+07</td>\n",
       "      <td>1.170035e+08</td>\n",
       "      <td>31.381405</td>\n",
       "      <td>575.619058</td>\n",
       "      <td>0.935142</td>\n",
       "      <td>12.812941</td>\n",
       "      <td>3.430616e+07</td>\n",
       "      <td>1.446325e+08</td>\n",
       "    </tr>\n",
       "    <tr>\n",
       "      <th>min</th>\n",
       "      <td>5.000000</td>\n",
       "      <td>0.000065</td>\n",
       "      <td>0.000000e+00</td>\n",
       "      <td>0.000000e+00</td>\n",
       "      <td>0.000000</td>\n",
       "      <td>10.000000</td>\n",
       "      <td>1.500000</td>\n",
       "      <td>1960.000000</td>\n",
       "      <td>0.000000e+00</td>\n",
       "      <td>0.000000e+00</td>\n",
       "    </tr>\n",
       "    <tr>\n",
       "      <th>25%</th>\n",
       "      <td>10596.250000</td>\n",
       "      <td>0.207583</td>\n",
       "      <td>0.000000e+00</td>\n",
       "      <td>0.000000e+00</td>\n",
       "      <td>90.000000</td>\n",
       "      <td>17.000000</td>\n",
       "      <td>5.400000</td>\n",
       "      <td>1995.000000</td>\n",
       "      <td>0.000000e+00</td>\n",
       "      <td>0.000000e+00</td>\n",
       "    </tr>\n",
       "    <tr>\n",
       "      <th>50%</th>\n",
       "      <td>20669.000000</td>\n",
       "      <td>0.383856</td>\n",
       "      <td>0.000000e+00</td>\n",
       "      <td>0.000000e+00</td>\n",
       "      <td>99.000000</td>\n",
       "      <td>38.000000</td>\n",
       "      <td>6.000000</td>\n",
       "      <td>2006.000000</td>\n",
       "      <td>0.000000e+00</td>\n",
       "      <td>0.000000e+00</td>\n",
       "    </tr>\n",
       "    <tr>\n",
       "      <th>75%</th>\n",
       "      <td>75610.000000</td>\n",
       "      <td>0.713817</td>\n",
       "      <td>1.500000e+07</td>\n",
       "      <td>2.400000e+07</td>\n",
       "      <td>111.000000</td>\n",
       "      <td>145.750000</td>\n",
       "      <td>6.600000</td>\n",
       "      <td>2011.000000</td>\n",
       "      <td>2.085325e+07</td>\n",
       "      <td>3.369710e+07</td>\n",
       "    </tr>\n",
       "    <tr>\n",
       "      <th>max</th>\n",
       "      <td>417859.000000</td>\n",
       "      <td>32.985763</td>\n",
       "      <td>4.250000e+08</td>\n",
       "      <td>2.781506e+09</td>\n",
       "      <td>900.000000</td>\n",
       "      <td>9767.000000</td>\n",
       "      <td>9.200000</td>\n",
       "      <td>2015.000000</td>\n",
       "      <td>4.250000e+08</td>\n",
       "      <td>2.827124e+09</td>\n",
       "    </tr>\n",
       "  </tbody>\n",
       "</table>\n",
       "</div>"
      ],
      "text/plain": [
       "                  id    popularity        budget       revenue       runtime  \\\n",
       "count   10866.000000  10866.000000  1.086600e+04  1.086600e+04  10866.000000   \n",
       "mean    66064.177434      0.646441  1.462570e+07  3.982332e+07    102.070863   \n",
       "std     92130.136561      1.000185  3.091321e+07  1.170035e+08     31.381405   \n",
       "min         5.000000      0.000065  0.000000e+00  0.000000e+00      0.000000   \n",
       "25%     10596.250000      0.207583  0.000000e+00  0.000000e+00     90.000000   \n",
       "50%     20669.000000      0.383856  0.000000e+00  0.000000e+00     99.000000   \n",
       "75%     75610.000000      0.713817  1.500000e+07  2.400000e+07    111.000000   \n",
       "max    417859.000000     32.985763  4.250000e+08  2.781506e+09    900.000000   \n",
       "\n",
       "         vote_count  vote_average  release_year    budget_adj   revenue_adj  \n",
       "count  10866.000000  10866.000000  10866.000000  1.086600e+04  1.086600e+04  \n",
       "mean     217.389748      5.974922   2001.322658  1.755104e+07  5.136436e+07  \n",
       "std      575.619058      0.935142     12.812941  3.430616e+07  1.446325e+08  \n",
       "min       10.000000      1.500000   1960.000000  0.000000e+00  0.000000e+00  \n",
       "25%       17.000000      5.400000   1995.000000  0.000000e+00  0.000000e+00  \n",
       "50%       38.000000      6.000000   2006.000000  0.000000e+00  0.000000e+00  \n",
       "75%      145.750000      6.600000   2011.000000  2.085325e+07  3.369710e+07  \n",
       "max     9767.000000      9.200000   2015.000000  4.250000e+08  2.827124e+09  "
      ]
     },
     "execution_count": 4,
     "metadata": {},
     "output_type": "execute_result"
    }
   ],
   "source": [
    "df.describe()"
   ]
  },
  {
   "cell_type": "markdown",
   "metadata": {},
   "source": [
    "As the table shown above, we can find outliers in `popularity` data, but according to the [forum](https://www.themoviedb.org/talk/5141d424760ee34da71431b0), the popularity score is measured by number of favourites and number of watched list etc, since it has no upperbond, I decided to retain the original data. Also, there are a lot of **zero number** in `budget` and `revenue` data, so is `runtime`. Didn't these movies be released? Look at the data in `release_year column`, I find all movies in the dataset are released becauce **the minimum value is 1960 and there is no null value for it**. So I assume the zero values in the `budget` and `revenue` are missing data. But under the risk that these zero values may be just small values, I preceed to take a look for some zero data content to decide whether it is just a missing value or small value."
   ]
  },
  {
   "cell_type": "markdown",
   "metadata": {},
   "source": [
    "Let's take a look at some zero `budget` and `revenue` data."
   ]
  },
  {
   "cell_type": "code",
   "execution_count": 5,
   "metadata": {},
   "outputs": [
    {
     "data": {
      "text/html": [
       "<div>\n",
       "<style>\n",
       "    .dataframe thead tr:only-child th {\n",
       "        text-align: right;\n",
       "    }\n",
       "\n",
       "    .dataframe thead th {\n",
       "        text-align: left;\n",
       "    }\n",
       "\n",
       "    .dataframe tbody tr th {\n",
       "        vertical-align: top;\n",
       "    }\n",
       "</style>\n",
       "<table border=\"1\" class=\"dataframe\">\n",
       "  <thead>\n",
       "    <tr style=\"text-align: right;\">\n",
       "      <th></th>\n",
       "      <th>id</th>\n",
       "      <th>imdb_id</th>\n",
       "      <th>popularity</th>\n",
       "      <th>budget</th>\n",
       "      <th>revenue</th>\n",
       "      <th>original_title</th>\n",
       "      <th>cast</th>\n",
       "      <th>homepage</th>\n",
       "      <th>director</th>\n",
       "      <th>tagline</th>\n",
       "      <th>...</th>\n",
       "      <th>overview</th>\n",
       "      <th>runtime</th>\n",
       "      <th>genres</th>\n",
       "      <th>production_companies</th>\n",
       "      <th>release_date</th>\n",
       "      <th>vote_count</th>\n",
       "      <th>vote_average</th>\n",
       "      <th>release_year</th>\n",
       "      <th>budget_adj</th>\n",
       "      <th>revenue_adj</th>\n",
       "    </tr>\n",
       "  </thead>\n",
       "  <tbody>\n",
       "    <tr>\n",
       "      <th>30</th>\n",
       "      <td>280996</td>\n",
       "      <td>tt3168230</td>\n",
       "      <td>3.927333</td>\n",
       "      <td>0</td>\n",
       "      <td>29355203</td>\n",
       "      <td>Mr. Holmes</td>\n",
       "      <td>Ian McKellen|Milo Parker|Laura Linney|Hattie M...</td>\n",
       "      <td>http://www.mrholmesfilm.com/</td>\n",
       "      <td>Bill Condon</td>\n",
       "      <td>The man behind the myth</td>\n",
       "      <td>...</td>\n",
       "      <td>The story is set in 1947, following a long-ret...</td>\n",
       "      <td>103</td>\n",
       "      <td>Mystery|Drama</td>\n",
       "      <td>BBC Films|See-Saw Films|FilmNation Entertainme...</td>\n",
       "      <td>6/19/15</td>\n",
       "      <td>425</td>\n",
       "      <td>6.4</td>\n",
       "      <td>2015</td>\n",
       "      <td>0.0</td>\n",
       "      <td>2.700677e+07</td>\n",
       "    </tr>\n",
       "    <tr>\n",
       "      <th>36</th>\n",
       "      <td>339527</td>\n",
       "      <td>tt1291570</td>\n",
       "      <td>3.358321</td>\n",
       "      <td>0</td>\n",
       "      <td>22354572</td>\n",
       "      <td>Solace</td>\n",
       "      <td>Abbie Cornish|Jeffrey Dean Morgan|Colin Farrel...</td>\n",
       "      <td>NaN</td>\n",
       "      <td>Afonso Poyart</td>\n",
       "      <td>A serial killer who can see your future, a psy...</td>\n",
       "      <td>...</td>\n",
       "      <td>A psychic doctor, John Clancy, works with an F...</td>\n",
       "      <td>101</td>\n",
       "      <td>Crime|Drama|Mystery</td>\n",
       "      <td>Eden Rock Media|FilmNation Entertainment|Flynn...</td>\n",
       "      <td>9/3/15</td>\n",
       "      <td>474</td>\n",
       "      <td>6.2</td>\n",
       "      <td>2015</td>\n",
       "      <td>0.0</td>\n",
       "      <td>2.056620e+07</td>\n",
       "    </tr>\n",
       "    <tr>\n",
       "      <th>72</th>\n",
       "      <td>284289</td>\n",
       "      <td>tt2911668</td>\n",
       "      <td>2.272044</td>\n",
       "      <td>0</td>\n",
       "      <td>45895</td>\n",
       "      <td>Beyond the Reach</td>\n",
       "      <td>Michael Douglas|Jeremy Irvine|Hanna Mangan Law...</td>\n",
       "      <td>NaN</td>\n",
       "      <td>Jean-Baptiste LÃ©onetti</td>\n",
       "      <td>NaN</td>\n",
       "      <td>...</td>\n",
       "      <td>A high-rolling corporate shark and his impover...</td>\n",
       "      <td>95</td>\n",
       "      <td>Thriller</td>\n",
       "      <td>Furthur Films</td>\n",
       "      <td>4/17/15</td>\n",
       "      <td>81</td>\n",
       "      <td>5.5</td>\n",
       "      <td>2015</td>\n",
       "      <td>0.0</td>\n",
       "      <td>4.222338e+04</td>\n",
       "    </tr>\n",
       "  </tbody>\n",
       "</table>\n",
       "<p>3 rows × 21 columns</p>\n",
       "</div>"
      ],
      "text/plain": [
       "        id    imdb_id  popularity  budget   revenue    original_title  \\\n",
       "30  280996  tt3168230    3.927333       0  29355203        Mr. Holmes   \n",
       "36  339527  tt1291570    3.358321       0  22354572            Solace   \n",
       "72  284289  tt2911668    2.272044       0     45895  Beyond the Reach   \n",
       "\n",
       "                                                 cast  \\\n",
       "30  Ian McKellen|Milo Parker|Laura Linney|Hattie M...   \n",
       "36  Abbie Cornish|Jeffrey Dean Morgan|Colin Farrel...   \n",
       "72  Michael Douglas|Jeremy Irvine|Hanna Mangan Law...   \n",
       "\n",
       "                        homepage                 director  \\\n",
       "30  http://www.mrholmesfilm.com/              Bill Condon   \n",
       "36                           NaN            Afonso Poyart   \n",
       "72                           NaN  Jean-Baptiste LÃ©onetti   \n",
       "\n",
       "                                              tagline      ...       \\\n",
       "30                            The man behind the myth      ...        \n",
       "36  A serial killer who can see your future, a psy...      ...        \n",
       "72                                                NaN      ...        \n",
       "\n",
       "                                             overview runtime  \\\n",
       "30  The story is set in 1947, following a long-ret...     103   \n",
       "36  A psychic doctor, John Clancy, works with an F...     101   \n",
       "72  A high-rolling corporate shark and his impover...      95   \n",
       "\n",
       "                 genres                               production_companies  \\\n",
       "30        Mystery|Drama  BBC Films|See-Saw Films|FilmNation Entertainme...   \n",
       "36  Crime|Drama|Mystery  Eden Rock Media|FilmNation Entertainment|Flynn...   \n",
       "72             Thriller                                      Furthur Films   \n",
       "\n",
       "   release_date vote_count  vote_average  release_year  budget_adj  \\\n",
       "30      6/19/15        425           6.4          2015         0.0   \n",
       "36       9/3/15        474           6.2          2015         0.0   \n",
       "72      4/17/15         81           5.5          2015         0.0   \n",
       "\n",
       "     revenue_adj  \n",
       "30  2.700677e+07  \n",
       "36  2.056620e+07  \n",
       "72  4.222338e+04  \n",
       "\n",
       "[3 rows x 21 columns]"
      ]
     },
     "execution_count": 5,
     "metadata": {},
     "output_type": "execute_result"
    }
   ],
   "source": [
    "#filter the zero budget data\n",
    "df_budget_zero = df.query('budget == 0')\n",
    "# choice the first three randomly\n",
    "df_budget_zero.head(3)"
   ]
  },
  {
   "cell_type": "code",
   "execution_count": 6,
   "metadata": {},
   "outputs": [
    {
     "data": {
      "text/html": [
       "<div>\n",
       "<style>\n",
       "    .dataframe thead tr:only-child th {\n",
       "        text-align: right;\n",
       "    }\n",
       "\n",
       "    .dataframe thead th {\n",
       "        text-align: left;\n",
       "    }\n",
       "\n",
       "    .dataframe tbody tr th {\n",
       "        vertical-align: top;\n",
       "    }\n",
       "</style>\n",
       "<table border=\"1\" class=\"dataframe\">\n",
       "  <thead>\n",
       "    <tr style=\"text-align: right;\">\n",
       "      <th></th>\n",
       "      <th>id</th>\n",
       "      <th>imdb_id</th>\n",
       "      <th>popularity</th>\n",
       "      <th>budget</th>\n",
       "      <th>revenue</th>\n",
       "      <th>original_title</th>\n",
       "      <th>cast</th>\n",
       "      <th>homepage</th>\n",
       "      <th>director</th>\n",
       "      <th>tagline</th>\n",
       "      <th>...</th>\n",
       "      <th>overview</th>\n",
       "      <th>runtime</th>\n",
       "      <th>genres</th>\n",
       "      <th>production_companies</th>\n",
       "      <th>release_date</th>\n",
       "      <th>vote_count</th>\n",
       "      <th>vote_average</th>\n",
       "      <th>release_year</th>\n",
       "      <th>budget_adj</th>\n",
       "      <th>revenue_adj</th>\n",
       "    </tr>\n",
       "  </thead>\n",
       "  <tbody>\n",
       "    <tr>\n",
       "      <th>48</th>\n",
       "      <td>265208</td>\n",
       "      <td>tt2231253</td>\n",
       "      <td>2.932340</td>\n",
       "      <td>30000000</td>\n",
       "      <td>0</td>\n",
       "      <td>Wild Card</td>\n",
       "      <td>Jason Statham|Michael Angarano|Milo Ventimigli...</td>\n",
       "      <td>NaN</td>\n",
       "      <td>Simon West</td>\n",
       "      <td>Never bet against a man with a killer hand.</td>\n",
       "      <td>...</td>\n",
       "      <td>When a Las Vegas bodyguard with lethal skills ...</td>\n",
       "      <td>92</td>\n",
       "      <td>Thriller|Crime|Drama</td>\n",
       "      <td>Current Entertainment|Lionsgate|Sierra / Affin...</td>\n",
       "      <td>1/14/15</td>\n",
       "      <td>481</td>\n",
       "      <td>5.3</td>\n",
       "      <td>2015</td>\n",
       "      <td>2.759999e+07</td>\n",
       "      <td>0.0</td>\n",
       "    </tr>\n",
       "    <tr>\n",
       "      <th>67</th>\n",
       "      <td>334074</td>\n",
       "      <td>tt3247714</td>\n",
       "      <td>2.331636</td>\n",
       "      <td>20000000</td>\n",
       "      <td>0</td>\n",
       "      <td>Survivor</td>\n",
       "      <td>Pierce Brosnan|Milla Jovovich|Dylan McDermott|...</td>\n",
       "      <td>http://survivormovie.com/</td>\n",
       "      <td>James McTeigue</td>\n",
       "      <td>His Next Target is Now Hunting Him</td>\n",
       "      <td>...</td>\n",
       "      <td>A Foreign Service Officer in London tries to p...</td>\n",
       "      <td>96</td>\n",
       "      <td>Crime|Thriller|Action</td>\n",
       "      <td>Nu Image Films|Winkler Films|Millennium Films|...</td>\n",
       "      <td>5/21/15</td>\n",
       "      <td>280</td>\n",
       "      <td>5.4</td>\n",
       "      <td>2015</td>\n",
       "      <td>1.839999e+07</td>\n",
       "      <td>0.0</td>\n",
       "    </tr>\n",
       "    <tr>\n",
       "      <th>74</th>\n",
       "      <td>347096</td>\n",
       "      <td>tt3478232</td>\n",
       "      <td>2.165433</td>\n",
       "      <td>0</td>\n",
       "      <td>0</td>\n",
       "      <td>Mythica: The Darkspore</td>\n",
       "      <td>Melanie Stone|Kevin Sorbo|Adam Johnson|Jake St...</td>\n",
       "      <td>http://www.mythicamovie.com/#!blank/wufvh</td>\n",
       "      <td>Anne K. Black</td>\n",
       "      <td>NaN</td>\n",
       "      <td>...</td>\n",
       "      <td>When Teelaâ€™s sister is murdered and a powerf...</td>\n",
       "      <td>108</td>\n",
       "      <td>Action|Adventure|Fantasy</td>\n",
       "      <td>Arrowstorm Entertainment</td>\n",
       "      <td>6/24/15</td>\n",
       "      <td>27</td>\n",
       "      <td>5.1</td>\n",
       "      <td>2015</td>\n",
       "      <td>0.000000e+00</td>\n",
       "      <td>0.0</td>\n",
       "    </tr>\n",
       "  </tbody>\n",
       "</table>\n",
       "<p>3 rows × 21 columns</p>\n",
       "</div>"
      ],
      "text/plain": [
       "        id    imdb_id  popularity    budget  revenue          original_title  \\\n",
       "48  265208  tt2231253    2.932340  30000000        0               Wild Card   \n",
       "67  334074  tt3247714    2.331636  20000000        0                Survivor   \n",
       "74  347096  tt3478232    2.165433         0        0  Mythica: The Darkspore   \n",
       "\n",
       "                                                 cast  \\\n",
       "48  Jason Statham|Michael Angarano|Milo Ventimigli...   \n",
       "67  Pierce Brosnan|Milla Jovovich|Dylan McDermott|...   \n",
       "74  Melanie Stone|Kevin Sorbo|Adam Johnson|Jake St...   \n",
       "\n",
       "                                     homepage        director  \\\n",
       "48                                        NaN      Simon West   \n",
       "67                  http://survivormovie.com/  James McTeigue   \n",
       "74  http://www.mythicamovie.com/#!blank/wufvh   Anne K. Black   \n",
       "\n",
       "                                        tagline     ...       \\\n",
       "48  Never bet against a man with a killer hand.     ...        \n",
       "67           His Next Target is Now Hunting Him     ...        \n",
       "74                                          NaN     ...        \n",
       "\n",
       "                                             overview runtime  \\\n",
       "48  When a Las Vegas bodyguard with lethal skills ...      92   \n",
       "67  A Foreign Service Officer in London tries to p...      96   \n",
       "74  When Teelaâ€™s sister is murdered and a powerf...     108   \n",
       "\n",
       "                      genres  \\\n",
       "48      Thriller|Crime|Drama   \n",
       "67     Crime|Thriller|Action   \n",
       "74  Action|Adventure|Fantasy   \n",
       "\n",
       "                                 production_companies release_date vote_count  \\\n",
       "48  Current Entertainment|Lionsgate|Sierra / Affin...      1/14/15        481   \n",
       "67  Nu Image Films|Winkler Films|Millennium Films|...      5/21/15        280   \n",
       "74                           Arrowstorm Entertainment      6/24/15         27   \n",
       "\n",
       "    vote_average  release_year    budget_adj  revenue_adj  \n",
       "48           5.3          2015  2.759999e+07          0.0  \n",
       "67           5.4          2015  1.839999e+07          0.0  \n",
       "74           5.1          2015  0.000000e+00          0.0  \n",
       "\n",
       "[3 rows x 21 columns]"
      ]
     },
     "execution_count": 6,
     "metadata": {},
     "output_type": "execute_result"
    }
   ],
   "source": [
    "#filter the zero revenue data\n",
    "df_revenue_zero = df.query('revenue == 0')\n",
    "# choice the first three randomly\n",
    "df_revenue_zero.head(3)"
   ]
  },
  {
   "cell_type": "markdown",
   "metadata": {},
   "source": [
    "Among the `budget` data in zero values, I randomly choose _Mr. Holmes_ and google search it. And I found it's [Wikipedia](https://en.wikipedia.org/wiki/Mr._Holmes#cite_note-2) page and there is **definitely a budget record**. Further more, I also find the same result for `revenue` data in zero value. So **I assume the zero value in revenue and budget column are missing**. Maybe I had better drop them out or set them as null values. Since if I include these quantification number in dateset, It will affect some statistics and the visualiation result in those question.\n",
    "\n",
    "To decide whether to drop them out or set them as null values, I count the number of the zero values in the two columns."
   ]
  },
  {
   "cell_type": "code",
   "execution_count": 7,
   "metadata": {},
   "outputs": [
    {
     "data": {
      "text/plain": [
       "budget\n",
       "0    5696\n",
       "1       4\n",
       "Name: id, dtype: int64"
      ]
     },
     "execution_count": 7,
     "metadata": {},
     "output_type": "execute_result"
    }
   ],
   "source": [
    "#count zero values in budget data using groupby\n",
    "df_budget_0count =  df.groupby('budget').count()['id']\n",
    "df_budget_0count.head(2)"
   ]
  },
  {
   "cell_type": "markdown",
   "metadata": {},
   "source": [
    "I count the zero value in the `budget` cloumn and there are 5696 rows in zero value. In case I drop too many raw data to keep the data integrity, I decide to retain these rows and replace zero values with null values."
   ]
  },
  {
   "cell_type": "markdown",
   "metadata": {},
   "source": [
    "So does the `revenue` column."
   ]
  },
  {
   "cell_type": "code",
   "execution_count": 8,
   "metadata": {},
   "outputs": [
    {
     "data": {
      "text/plain": [
       "revenue\n",
       "0    6016\n",
       "2       2\n",
       "Name: id, dtype: int64"
      ]
     },
     "execution_count": 8,
     "metadata": {},
     "output_type": "execute_result"
    }
   ],
   "source": [
    "#count zero values in revenue data using groupby\n",
    "df_revenue_0count =  df.groupby('revenue').count()['id']\n",
    "df_revenue_0count.head(2)"
   ]
  },
  {
   "cell_type": "markdown",
   "metadata": {},
   "source": [
    "It contains 6016 rows in zero values, so I also dicide to keep these rows and replace zero values with null values."
   ]
  },
  {
   "cell_type": "markdown",
   "metadata": {},
   "source": [
    "Finally, let's investigate the `runtime` column to decide whether drop zero or just replace it with null value."
   ]
  },
  {
   "cell_type": "code",
   "execution_count": 9,
   "metadata": {},
   "outputs": [
    {
     "data": {
      "text/plain": [
       "runtime\n",
       "0    31\n",
       "2     5\n",
       "Name: id, dtype: int64"
      ]
     },
     "execution_count": 9,
     "metadata": {},
     "output_type": "execute_result"
    }
   ],
   "source": [
    "#count zero values in runtime data using groupby\n",
    "df_runtime_0count =  df.groupby('runtime').count()['id']\n",
    "df_runtime_0count.head(2)"
   ]
  },
  {
   "cell_type": "markdown",
   "metadata": {},
   "source": [
    "It's just has a small number of zero value rows in runtime column, so I decide to drop them."
   ]
  },
  {
   "cell_type": "markdown",
   "metadata": {},
   "source": [
    "### Cleaning Decision Summary\n",
    "1. Drop unnecessary columns for answering those questions : `homepage`, `tagline`, `imdb_id`, `overview`,`budget_adj`, `revenue_adj`.\n",
    "2. Drop duplicates.\n",
    "3. Drop null values columns that with small quantity of nulls : `cast`, `director`, and `genres`.\n",
    "4. Replace zero values with null values in the `budget` and `revenue` column.\n",
    "5. Drop zero values columns that with small quantity of zeros : `runtime`."
   ]
  },
  {
   "cell_type": "markdown",
   "metadata": {},
   "source": [
    "### Data Cleaning "
   ]
  },
  {
   "cell_type": "markdown",
   "metadata": {},
   "source": [
    "**First, according to the previous decision, let's drop unncessary columns : `imdb_id`, `homepage`, `tagline`, `overview`.**"
   ]
  },
  {
   "cell_type": "code",
   "execution_count": 10,
   "metadata": {
    "collapsed": true
   },
   "outputs": [],
   "source": [
    "# After discussing the structure of the data and any problems that need to be\n",
    "#   cleaned, perform those cleaning steps in the second part of this section.\n",
    "# Drop extraneous columns\n",
    "col = ['imdb_id', 'homepage', 'tagline', 'overview', 'budget_adj', 'revenue_adj']\n",
    "df.drop(col, axis=1, inplace=True)"
   ]
  },
  {
   "cell_type": "code",
   "execution_count": 11,
   "metadata": {},
   "outputs": [
    {
     "data": {
      "text/html": [
       "<div>\n",
       "<style>\n",
       "    .dataframe thead tr:only-child th {\n",
       "        text-align: right;\n",
       "    }\n",
       "\n",
       "    .dataframe thead th {\n",
       "        text-align: left;\n",
       "    }\n",
       "\n",
       "    .dataframe tbody tr th {\n",
       "        vertical-align: top;\n",
       "    }\n",
       "</style>\n",
       "<table border=\"1\" class=\"dataframe\">\n",
       "  <thead>\n",
       "    <tr style=\"text-align: right;\">\n",
       "      <th></th>\n",
       "      <th>id</th>\n",
       "      <th>popularity</th>\n",
       "      <th>budget</th>\n",
       "      <th>revenue</th>\n",
       "      <th>original_title</th>\n",
       "      <th>cast</th>\n",
       "      <th>director</th>\n",
       "      <th>keywords</th>\n",
       "      <th>runtime</th>\n",
       "      <th>genres</th>\n",
       "      <th>production_companies</th>\n",
       "      <th>release_date</th>\n",
       "      <th>vote_count</th>\n",
       "      <th>vote_average</th>\n",
       "      <th>release_year</th>\n",
       "    </tr>\n",
       "  </thead>\n",
       "  <tbody>\n",
       "    <tr>\n",
       "      <th>0</th>\n",
       "      <td>135397</td>\n",
       "      <td>32.985763</td>\n",
       "      <td>150000000</td>\n",
       "      <td>1513528810</td>\n",
       "      <td>Jurassic World</td>\n",
       "      <td>Chris Pratt|Bryce Dallas Howard|Irrfan Khan|Vi...</td>\n",
       "      <td>Colin Trevorrow</td>\n",
       "      <td>monster|dna|tyrannosaurus rex|velociraptor|island</td>\n",
       "      <td>124</td>\n",
       "      <td>Action|Adventure|Science Fiction|Thriller</td>\n",
       "      <td>Universal Studios|Amblin Entertainment|Legenda...</td>\n",
       "      <td>6/9/15</td>\n",
       "      <td>5562</td>\n",
       "      <td>6.5</td>\n",
       "      <td>2015</td>\n",
       "    </tr>\n",
       "  </tbody>\n",
       "</table>\n",
       "</div>"
      ],
      "text/plain": [
       "       id  popularity     budget     revenue  original_title  \\\n",
       "0  135397   32.985763  150000000  1513528810  Jurassic World   \n",
       "\n",
       "                                                cast         director  \\\n",
       "0  Chris Pratt|Bryce Dallas Howard|Irrfan Khan|Vi...  Colin Trevorrow   \n",
       "\n",
       "                                            keywords  runtime  \\\n",
       "0  monster|dna|tyrannosaurus rex|velociraptor|island      124   \n",
       "\n",
       "                                      genres  \\\n",
       "0  Action|Adventure|Science Fiction|Thriller   \n",
       "\n",
       "                                production_companies release_date  vote_count  \\\n",
       "0  Universal Studios|Amblin Entertainment|Legenda...       6/9/15        5562   \n",
       "\n",
       "   vote_average  release_year  \n",
       "0           6.5          2015  "
      ]
     },
     "execution_count": 11,
     "metadata": {},
     "output_type": "execute_result"
    }
   ],
   "source": [
    "# see if these columns are dropped.\n",
    "df.head(1)"
   ]
  },
  {
   "cell_type": "markdown",
   "metadata": {},
   "source": [
    "** Drop the duplicates.**"
   ]
  },
  {
   "cell_type": "code",
   "execution_count": 12,
   "metadata": {
    "collapsed": true
   },
   "outputs": [],
   "source": [
    "#Drop the duplicates\n",
    "df.drop_duplicates(inplace=True)"
   ]
  },
  {
   "cell_type": "markdown",
   "metadata": {},
   "source": [
    "**Then, drop the null values in `cast`, `director`, `genres` columns.**"
   ]
  },
  {
   "cell_type": "code",
   "execution_count": 13,
   "metadata": {
    "collapsed": true
   },
   "outputs": [],
   "source": [
    "#drop the null values in cast, director, genres columns\n",
    "cal2 = ['cast', 'director', 'genres']\n",
    "df.dropna(subset = cal2, how='any', inplace=True)"
   ]
  },
  {
   "cell_type": "code",
   "execution_count": 14,
   "metadata": {},
   "outputs": [
    {
     "data": {
      "text/plain": [
       "id                         0\n",
       "popularity                 0\n",
       "budget                     0\n",
       "revenue                    0\n",
       "original_title             0\n",
       "cast                       0\n",
       "director                   0\n",
       "keywords                1425\n",
       "runtime                    0\n",
       "genres                     0\n",
       "production_companies     959\n",
       "release_date               0\n",
       "vote_count                 0\n",
       "vote_average               0\n",
       "release_year               0\n",
       "dtype: int64"
      ]
     },
     "execution_count": 14,
     "metadata": {},
     "output_type": "execute_result"
    }
   ],
   "source": [
    "# see if nulls are dropped.\n",
    "df.isnull().sum()"
   ]
  },
  {
   "cell_type": "markdown",
   "metadata": {},
   "source": [
    "**Then, replace zero values with null values in the budget and revenue column.**"
   ]
  },
  {
   "cell_type": "code",
   "execution_count": 15,
   "metadata": {},
   "outputs": [
    {
     "name": "stdout",
     "output_type": "stream",
     "text": [
      "<class 'pandas.core.frame.DataFrame'>\n",
      "Int64Index: 10731 entries, 0 to 10865\n",
      "Data columns (total 15 columns):\n",
      "id                      10731 non-null int64\n",
      "popularity              10731 non-null float64\n",
      "budget                  5153 non-null float64\n",
      "revenue                 4843 non-null float64\n",
      "original_title          10731 non-null object\n",
      "cast                    10731 non-null object\n",
      "director                10731 non-null object\n",
      "keywords                9306 non-null object\n",
      "runtime                 10731 non-null int64\n",
      "genres                  10731 non-null object\n",
      "production_companies    9772 non-null object\n",
      "release_date            10731 non-null object\n",
      "vote_count              10731 non-null int64\n",
      "vote_average            10731 non-null float64\n",
      "release_year            10731 non-null int64\n",
      "dtypes: float64(4), int64(4), object(7)\n",
      "memory usage: 1.3+ MB\n"
     ]
    }
   ],
   "source": [
    "#replace zero values with null values in the budget and revenue column.\n",
    "df['budget'] = df['budget'].replace(0, np.NaN)\n",
    "df['revenue'] = df['revenue'].replace(0, np.NaN)\n",
    "# see if nulls are added in budget and revenue columns\n",
    "df.info()"
   ]
  },
  {
   "cell_type": "markdown",
   "metadata": {},
   "source": [
    "**Finally, drop columns with small quantity of zero values : runtime.**"
   ]
  },
  {
   "cell_type": "code",
   "execution_count": 16,
   "metadata": {},
   "outputs": [
    {
     "data": {
      "text/html": [
       "<div>\n",
       "<style>\n",
       "    .dataframe thead tr:only-child th {\n",
       "        text-align: right;\n",
       "    }\n",
       "\n",
       "    .dataframe thead th {\n",
       "        text-align: left;\n",
       "    }\n",
       "\n",
       "    .dataframe tbody tr th {\n",
       "        vertical-align: top;\n",
       "    }\n",
       "</style>\n",
       "<table border=\"1\" class=\"dataframe\">\n",
       "  <thead>\n",
       "    <tr style=\"text-align: right;\">\n",
       "      <th></th>\n",
       "      <th>id</th>\n",
       "      <th>popularity</th>\n",
       "      <th>budget</th>\n",
       "      <th>revenue</th>\n",
       "      <th>original_title</th>\n",
       "      <th>cast</th>\n",
       "      <th>director</th>\n",
       "      <th>keywords</th>\n",
       "      <th>runtime</th>\n",
       "      <th>genres</th>\n",
       "      <th>production_companies</th>\n",
       "      <th>release_date</th>\n",
       "      <th>vote_count</th>\n",
       "      <th>vote_average</th>\n",
       "      <th>release_year</th>\n",
       "    </tr>\n",
       "  </thead>\n",
       "  <tbody>\n",
       "  </tbody>\n",
       "</table>\n",
       "</div>"
      ],
      "text/plain": [
       "Empty DataFrame\n",
       "Columns: [id, popularity, budget, revenue, original_title, cast, director, keywords, runtime, genres, production_companies, release_date, vote_count, vote_average, release_year]\n",
       "Index: []"
      ]
     },
     "execution_count": 16,
     "metadata": {},
     "output_type": "execute_result"
    }
   ],
   "source": [
    "# directly filter the runtime data with nonzero value\n",
    "df.query('runtime != 0', inplace=True)\n",
    "#check\n",
    "df.query('runtime == 0')"
   ]
  },
  {
   "cell_type": "markdown",
   "metadata": {},
   "source": [
    "### Cleaning Result Summary"
   ]
  },
  {
   "cell_type": "markdown",
   "metadata": {},
   "source": [
    "<b>From the table bellow, we can see that the data in each column are almost clear without too many null values. And my clearning goal is also to keep the data integrity from the original one. Although there are some null values in `keywords` and `production companies` columns, it is still useful for analysis, and in fact the number of their null values are not very huge, so I just kept both of them. The data now with 10703 entries and 17 columns.</b>"
   ]
  },
  {
   "cell_type": "code",
   "execution_count": 17,
   "metadata": {},
   "outputs": [
    {
     "name": "stdout",
     "output_type": "stream",
     "text": [
      "<class 'pandas.core.frame.DataFrame'>\n",
      "Int64Index: 10703 entries, 0 to 10865\n",
      "Data columns (total 15 columns):\n",
      "id                      10703 non-null int64\n",
      "popularity              10703 non-null float64\n",
      "budget                  5150 non-null float64\n",
      "revenue                 4843 non-null float64\n",
      "original_title          10703 non-null object\n",
      "cast                    10703 non-null object\n",
      "director                10703 non-null object\n",
      "keywords                9293 non-null object\n",
      "runtime                 10703 non-null int64\n",
      "genres                  10703 non-null object\n",
      "production_companies    9759 non-null object\n",
      "release_date            10703 non-null object\n",
      "vote_count              10703 non-null int64\n",
      "vote_average            10703 non-null float64\n",
      "release_year            10703 non-null int64\n",
      "dtypes: float64(4), int64(4), object(7)\n",
      "memory usage: 1.3+ MB\n"
     ]
    }
   ],
   "source": [
    "df.info()"
   ]
  },
  {
   "cell_type": "markdown",
   "metadata": {},
   "source": [
    "<b>And from the table bellow, after transfer all zero values to null values in `budget` and `revenue` data, we can see that both the distribution of budget and revenue are much better, without too concentrate on the zero value or small values.  And after deleting the zero values of runtime, we can see the minimum value of runtime is more reasonable.</b>"
   ]
  },
  {
   "cell_type": "code",
   "execution_count": 18,
   "metadata": {},
   "outputs": [
    {
     "data": {
      "text/html": [
       "<div>\n",
       "<style>\n",
       "    .dataframe thead tr:only-child th {\n",
       "        text-align: right;\n",
       "    }\n",
       "\n",
       "    .dataframe thead th {\n",
       "        text-align: left;\n",
       "    }\n",
       "\n",
       "    .dataframe tbody tr th {\n",
       "        vertical-align: top;\n",
       "    }\n",
       "</style>\n",
       "<table border=\"1\" class=\"dataframe\">\n",
       "  <thead>\n",
       "    <tr style=\"text-align: right;\">\n",
       "      <th></th>\n",
       "      <th>id</th>\n",
       "      <th>popularity</th>\n",
       "      <th>budget</th>\n",
       "      <th>revenue</th>\n",
       "      <th>runtime</th>\n",
       "      <th>vote_count</th>\n",
       "      <th>vote_average</th>\n",
       "      <th>release_year</th>\n",
       "    </tr>\n",
       "  </thead>\n",
       "  <tbody>\n",
       "    <tr>\n",
       "      <th>count</th>\n",
       "      <td>10703.000000</td>\n",
       "      <td>10703.000000</td>\n",
       "      <td>5.150000e+03</td>\n",
       "      <td>4.843000e+03</td>\n",
       "      <td>10703.000000</td>\n",
       "      <td>10703.000000</td>\n",
       "      <td>10703.000000</td>\n",
       "      <td>10703.000000</td>\n",
       "    </tr>\n",
       "    <tr>\n",
       "      <th>mean</th>\n",
       "      <td>64904.988321</td>\n",
       "      <td>0.653818</td>\n",
       "      <td>3.084401e+07</td>\n",
       "      <td>8.933981e+07</td>\n",
       "      <td>102.736896</td>\n",
       "      <td>220.333178</td>\n",
       "      <td>5.966112</td>\n",
       "      <td>2001.235355</td>\n",
       "    </tr>\n",
       "    <tr>\n",
       "      <th>std</th>\n",
       "      <td>91161.996308</td>\n",
       "      <td>1.005687</td>\n",
       "      <td>3.893782e+07</td>\n",
       "      <td>1.621546e+08</td>\n",
       "      <td>30.079331</td>\n",
       "      <td>579.481969</td>\n",
       "      <td>0.930155</td>\n",
       "      <td>12.825920</td>\n",
       "    </tr>\n",
       "    <tr>\n",
       "      <th>min</th>\n",
       "      <td>5.000000</td>\n",
       "      <td>0.000188</td>\n",
       "      <td>1.000000e+00</td>\n",
       "      <td>2.000000e+00</td>\n",
       "      <td>3.000000</td>\n",
       "      <td>10.000000</td>\n",
       "      <td>1.500000</td>\n",
       "      <td>1960.000000</td>\n",
       "    </tr>\n",
       "    <tr>\n",
       "      <th>25%</th>\n",
       "      <td>10538.500000</td>\n",
       "      <td>0.211533</td>\n",
       "      <td>6.000000e+06</td>\n",
       "      <td>7.779664e+06</td>\n",
       "      <td>90.000000</td>\n",
       "      <td>17.000000</td>\n",
       "      <td>5.400000</td>\n",
       "      <td>1995.000000</td>\n",
       "    </tr>\n",
       "    <tr>\n",
       "      <th>50%</th>\n",
       "      <td>20235.000000</td>\n",
       "      <td>0.388036</td>\n",
       "      <td>1.750000e+07</td>\n",
       "      <td>3.191160e+07</td>\n",
       "      <td>99.000000</td>\n",
       "      <td>39.000000</td>\n",
       "      <td>6.000000</td>\n",
       "      <td>2006.000000</td>\n",
       "    </tr>\n",
       "    <tr>\n",
       "      <th>75%</th>\n",
       "      <td>73637.000000</td>\n",
       "      <td>0.722438</td>\n",
       "      <td>4.000000e+07</td>\n",
       "      <td>1.000000e+08</td>\n",
       "      <td>112.000000</td>\n",
       "      <td>149.000000</td>\n",
       "      <td>6.600000</td>\n",
       "      <td>2011.000000</td>\n",
       "    </tr>\n",
       "    <tr>\n",
       "      <th>max</th>\n",
       "      <td>417859.000000</td>\n",
       "      <td>32.985763</td>\n",
       "      <td>4.250000e+08</td>\n",
       "      <td>2.781506e+09</td>\n",
       "      <td>900.000000</td>\n",
       "      <td>9767.000000</td>\n",
       "      <td>9.200000</td>\n",
       "      <td>2015.000000</td>\n",
       "    </tr>\n",
       "  </tbody>\n",
       "</table>\n",
       "</div>"
      ],
      "text/plain": [
       "                  id    popularity        budget       revenue       runtime  \\\n",
       "count   10703.000000  10703.000000  5.150000e+03  4.843000e+03  10703.000000   \n",
       "mean    64904.988321      0.653818  3.084401e+07  8.933981e+07    102.736896   \n",
       "std     91161.996308      1.005687  3.893782e+07  1.621546e+08     30.079331   \n",
       "min         5.000000      0.000188  1.000000e+00  2.000000e+00      3.000000   \n",
       "25%     10538.500000      0.211533  6.000000e+06  7.779664e+06     90.000000   \n",
       "50%     20235.000000      0.388036  1.750000e+07  3.191160e+07     99.000000   \n",
       "75%     73637.000000      0.722438  4.000000e+07  1.000000e+08    112.000000   \n",
       "max    417859.000000     32.985763  4.250000e+08  2.781506e+09    900.000000   \n",
       "\n",
       "         vote_count  vote_average  release_year  \n",
       "count  10703.000000  10703.000000  10703.000000  \n",
       "mean     220.333178      5.966112   2001.235355  \n",
       "std      579.481969      0.930155     12.825920  \n",
       "min       10.000000      1.500000   1960.000000  \n",
       "25%       17.000000      5.400000   1995.000000  \n",
       "50%       39.000000      6.000000   2006.000000  \n",
       "75%      149.000000      6.600000   2011.000000  \n",
       "max     9767.000000      9.200000   2015.000000  "
      ]
     },
     "execution_count": 18,
     "metadata": {},
     "output_type": "execute_result"
    }
   ],
   "source": [
    "df.describe()"
   ]
  },
  {
   "cell_type": "markdown",
   "metadata": {},
   "source": [
    "<a name='exploring'></a>\n",
    "\n",
    "## Exploratory Data Analysis\n",
    "> In this section, we are going to compute statistics and create visualizations with the goal of addressing the research questions that we posed in the Introduction section.<br>\n",
    "We will start with looking at one variable at a time, and then follow it up by looking at relationships between variables.\n",
    "\n",
    "<a name='prep'></a>\n",
    "\n",
    "### Preparing Data Analysis\n",
    "> - Manipulate dataframe\n",
    "- Define functions that will be used to answer proposed questions\n",
    "- Prepare subsets of data for each questions"
   ]
  },
  {
   "cell_type": "code",
   "execution_count": 19,
   "metadata": {},
   "outputs": [
    {
     "data": {
      "text/html": [
       "<div>\n",
       "<style>\n",
       "    .dataframe thead tr:only-child th {\n",
       "        text-align: right;\n",
       "    }\n",
       "\n",
       "    .dataframe thead th {\n",
       "        text-align: left;\n",
       "    }\n",
       "\n",
       "    .dataframe tbody tr th {\n",
       "        vertical-align: top;\n",
       "    }\n",
       "</style>\n",
       "<table border=\"1\" class=\"dataframe\">\n",
       "  <thead>\n",
       "    <tr style=\"text-align: right;\">\n",
       "      <th></th>\n",
       "      <th>popularity</th>\n",
       "      <th>budget</th>\n",
       "      <th>revenue</th>\n",
       "      <th>original_title</th>\n",
       "      <th>cast</th>\n",
       "      <th>director</th>\n",
       "      <th>runtime</th>\n",
       "      <th>genres</th>\n",
       "      <th>vote_count</th>\n",
       "      <th>vote_average</th>\n",
       "      <th>release_year</th>\n",
       "    </tr>\n",
       "  </thead>\n",
       "  <tbody>\n",
       "    <tr>\n",
       "      <th>0</th>\n",
       "      <td>32.985763</td>\n",
       "      <td>150000000</td>\n",
       "      <td>1513528810</td>\n",
       "      <td>Jurassic World</td>\n",
       "      <td>Chris Pratt|Bryce Dallas Howard|Irrfan Khan|Vi...</td>\n",
       "      <td>Colin Trevorrow</td>\n",
       "      <td>124</td>\n",
       "      <td>Action|Adventure|Science Fiction|Thriller</td>\n",
       "      <td>5562</td>\n",
       "      <td>6.5</td>\n",
       "      <td>2015</td>\n",
       "    </tr>\n",
       "    <tr>\n",
       "      <th>1</th>\n",
       "      <td>28.419936</td>\n",
       "      <td>150000000</td>\n",
       "      <td>378436354</td>\n",
       "      <td>Mad Max: Fury Road</td>\n",
       "      <td>Tom Hardy|Charlize Theron|Hugh Keays-Byrne|Nic...</td>\n",
       "      <td>George Miller</td>\n",
       "      <td>120</td>\n",
       "      <td>Action|Adventure|Science Fiction|Thriller</td>\n",
       "      <td>6185</td>\n",
       "      <td>7.1</td>\n",
       "      <td>2015</td>\n",
       "    </tr>\n",
       "    <tr>\n",
       "      <th>2</th>\n",
       "      <td>13.112507</td>\n",
       "      <td>110000000</td>\n",
       "      <td>295238201</td>\n",
       "      <td>Insurgent</td>\n",
       "      <td>Shailene Woodley|Theo James|Kate Winslet|Ansel...</td>\n",
       "      <td>Robert Schwentke</td>\n",
       "      <td>119</td>\n",
       "      <td>Adventure|Science Fiction|Thriller</td>\n",
       "      <td>2480</td>\n",
       "      <td>6.3</td>\n",
       "      <td>2015</td>\n",
       "    </tr>\n",
       "  </tbody>\n",
       "</table>\n",
       "</div>"
      ],
      "text/plain": [
       "   popularity     budget     revenue      original_title  \\\n",
       "0   32.985763  150000000  1513528810      Jurassic World   \n",
       "1   28.419936  150000000   378436354  Mad Max: Fury Road   \n",
       "2   13.112507  110000000   295238201           Insurgent   \n",
       "\n",
       "                                                cast          director  \\\n",
       "0  Chris Pratt|Bryce Dallas Howard|Irrfan Khan|Vi...   Colin Trevorrow   \n",
       "1  Tom Hardy|Charlize Theron|Hugh Keays-Byrne|Nic...     George Miller   \n",
       "2  Shailene Woodley|Theo James|Kate Winslet|Ansel...  Robert Schwentke   \n",
       "\n",
       "   runtime                                     genres  vote_count  \\\n",
       "0      124  Action|Adventure|Science Fiction|Thriller        5562   \n",
       "1      120  Action|Adventure|Science Fiction|Thriller        6185   \n",
       "2      119         Adventure|Science Fiction|Thriller        2480   \n",
       "\n",
       "   vote_average  release_year  \n",
       "0           6.5          2015  \n",
       "1           7.1          2015  \n",
       "2           6.3          2015  "
      ]
     },
     "execution_count": 19,
     "metadata": {},
     "output_type": "execute_result"
    }
   ],
   "source": [
    "# load data and check\n",
    "df = pd.read_csv('tmdb-movies-clean.csv')\n",
    "df.head(3)"
   ]
  },
  {
   "cell_type": "markdown",
   "metadata": {},
   "source": [
    "> To start with, let's manipulate our dataframe before answering some specific questions.<br>\n",
    "- rearrange our column orders for easier slicing relative to our proposed questions\n",
    "- add `'profit'` column defined as $profit = revenue - budget$ <br>\n",
    "- add `'break_even'` column with `'yes'` or `'no'` where `break-even point` is defined as $ break \\ even = 2 \\times budget$"
   ]
  },
  {
   "cell_type": "code",
   "execution_count": 20,
   "metadata": {
    "collapsed": true
   },
   "outputs": [],
   "source": [
    "# rearrange the column order\n",
    "new_order = ['original_title', 'genres', 'director', 'cast',\n",
    "             'release_year', 'budget', 'revenue', 'runtime',\n",
    "             'vote_count', 'vote_average', 'popularity']\n",
    "\n",
    "df = df[new_order]"
   ]
  },
  {
   "cell_type": "code",
   "execution_count": 21,
   "metadata": {
    "collapsed": true
   },
   "outputs": [],
   "source": [
    "# add 'profit' column after 'revenue' column\n",
    "df.insert(7, 'profit', df['revenue'] - df['budget'])"
   ]
  },
  {
   "cell_type": "code",
   "execution_count": 22,
   "metadata": {
    "collapsed": true
   },
   "outputs": [],
   "source": [
    "# add 'total_vote_point' column after 'vote_average' column defined as (vote_count*vote_average)\n",
    "df.insert(12, 'total_vote_point', np.multiply(df['vote_count'], df['vote_average']))"
   ]
  },
  {
   "cell_type": "code",
   "execution_count": 23,
   "metadata": {},
   "outputs": [
    {
     "data": {
      "text/html": [
       "<div>\n",
       "<style>\n",
       "    .dataframe thead tr:only-child th {\n",
       "        text-align: right;\n",
       "    }\n",
       "\n",
       "    .dataframe thead th {\n",
       "        text-align: left;\n",
       "    }\n",
       "\n",
       "    .dataframe tbody tr th {\n",
       "        vertical-align: top;\n",
       "    }\n",
       "</style>\n",
       "<table border=\"1\" class=\"dataframe\">\n",
       "  <thead>\n",
       "    <tr style=\"text-align: right;\">\n",
       "      <th></th>\n",
       "      <th>original_title</th>\n",
       "      <th>genres</th>\n",
       "      <th>director</th>\n",
       "      <th>cast</th>\n",
       "      <th>release_year</th>\n",
       "      <th>budget</th>\n",
       "      <th>revenue</th>\n",
       "      <th>profit</th>\n",
       "      <th>runtime</th>\n",
       "      <th>vote_count</th>\n",
       "      <th>vote_average</th>\n",
       "      <th>popularity</th>\n",
       "      <th>total_vote_point</th>\n",
       "    </tr>\n",
       "  </thead>\n",
       "  <tbody>\n",
       "    <tr>\n",
       "      <th>0</th>\n",
       "      <td>Jurassic World</td>\n",
       "      <td>Action|Adventure|Science Fiction|Thriller</td>\n",
       "      <td>Colin Trevorrow</td>\n",
       "      <td>Chris Pratt|Bryce Dallas Howard|Irrfan Khan|Vi...</td>\n",
       "      <td>2015</td>\n",
       "      <td>150000000</td>\n",
       "      <td>1513528810</td>\n",
       "      <td>1363528810</td>\n",
       "      <td>124</td>\n",
       "      <td>5562</td>\n",
       "      <td>6.5</td>\n",
       "      <td>32.985763</td>\n",
       "      <td>36153.0</td>\n",
       "    </tr>\n",
       "    <tr>\n",
       "      <th>1</th>\n",
       "      <td>Mad Max: Fury Road</td>\n",
       "      <td>Action|Adventure|Science Fiction|Thriller</td>\n",
       "      <td>George Miller</td>\n",
       "      <td>Tom Hardy|Charlize Theron|Hugh Keays-Byrne|Nic...</td>\n",
       "      <td>2015</td>\n",
       "      <td>150000000</td>\n",
       "      <td>378436354</td>\n",
       "      <td>228436354</td>\n",
       "      <td>120</td>\n",
       "      <td>6185</td>\n",
       "      <td>7.1</td>\n",
       "      <td>28.419936</td>\n",
       "      <td>43913.5</td>\n",
       "    </tr>\n",
       "    <tr>\n",
       "      <th>2</th>\n",
       "      <td>Insurgent</td>\n",
       "      <td>Adventure|Science Fiction|Thriller</td>\n",
       "      <td>Robert Schwentke</td>\n",
       "      <td>Shailene Woodley|Theo James|Kate Winslet|Ansel...</td>\n",
       "      <td>2015</td>\n",
       "      <td>110000000</td>\n",
       "      <td>295238201</td>\n",
       "      <td>185238201</td>\n",
       "      <td>119</td>\n",
       "      <td>2480</td>\n",
       "      <td>6.3</td>\n",
       "      <td>13.112507</td>\n",
       "      <td>15624.0</td>\n",
       "    </tr>\n",
       "  </tbody>\n",
       "</table>\n",
       "</div>"
      ],
      "text/plain": [
       "       original_title                                     genres  \\\n",
       "0      Jurassic World  Action|Adventure|Science Fiction|Thriller   \n",
       "1  Mad Max: Fury Road  Action|Adventure|Science Fiction|Thriller   \n",
       "2           Insurgent         Adventure|Science Fiction|Thriller   \n",
       "\n",
       "           director                                               cast  \\\n",
       "0   Colin Trevorrow  Chris Pratt|Bryce Dallas Howard|Irrfan Khan|Vi...   \n",
       "1     George Miller  Tom Hardy|Charlize Theron|Hugh Keays-Byrne|Nic...   \n",
       "2  Robert Schwentke  Shailene Woodley|Theo James|Kate Winslet|Ansel...   \n",
       "\n",
       "   release_year     budget     revenue      profit  runtime  vote_count  \\\n",
       "0          2015  150000000  1513528810  1363528810      124        5562   \n",
       "1          2015  150000000   378436354   228436354      120        6185   \n",
       "2          2015  110000000   295238201   185238201      119        2480   \n",
       "\n",
       "   vote_average  popularity  total_vote_point  \n",
       "0           6.5   32.985763           36153.0  \n",
       "1           7.1   28.419936           43913.5  \n",
       "2           6.3   13.112507           15624.0  "
      ]
     },
     "execution_count": 23,
     "metadata": {},
     "output_type": "execute_result"
    }
   ],
   "source": [
    "# check the modified dataframe\n",
    "df.head(3)"
   ]
  },
  {
   "cell_type": "markdown",
   "metadata": {},
   "source": [
    "> Next, write a function that returns an informational dataframe based on maximum and minimum *(first occurrence if many)* of a requested column <br>\n",
    "and presents it in a more readable tableform. "
   ]
  },
  {
   "cell_type": "code",
   "execution_count": 24,
   "metadata": {
    "collapsed": true
   },
   "outputs": [],
   "source": [
    "# define a function which takes a column name and a dataframe(df by default)\n",
    "def mum_table(col, df=df):\n",
    "    # find index of maximum and minimum of a requested axis\n",
    "    id_extrema = [df[col].idxmax(), df[col].idxmin()]\n",
    "\n",
    "    # select the data\n",
    "    df_temp = df.loc[id_extrema, :]\n",
    "\n",
    "    # set 'original_title' as new index, delete the index title, and transpose\n",
    "    df_temp = df_temp.set_index('original_title').rename_axis(None).T\n",
    "\n",
    "    return df_temp"
   ]
  },
  {
   "cell_type": "markdown",
   "metadata": {},
   "source": [
    "> What if I want to see top & bottom 3 or 5 movies regarding their numerical values ?"
   ]
  },
  {
   "cell_type": "code",
   "execution_count": 25,
   "metadata": {
    "collapsed": true
   },
   "outputs": [],
   "source": [
    "# define a function named find_extrema()\n",
    "def n_extrema(col, i=1):\n",
    "    df_top = df.sort_values(by=col, ascending=False).head(i).reset_index(drop=True)\n",
    "\n",
    "    # ascending=True to have worst case on top\n",
    "    df_bot = df.sort_values(by=col, ascending=True).head(i).reset_index(drop=True)\n",
    "    return df_top, df_bot"
   ]
  },
  {
   "cell_type": "markdown",
   "metadata": {},
   "source": [
    "> Since we have few columns that contain multiple values separated with pipe (|) characters, <br>\n",
    "let's define another function that will help us spliting these values and counting them."
   ]
  },
  {
   "cell_type": "code",
   "execution_count": 26,
   "metadata": {
    "collapsed": true
   },
   "outputs": [],
   "source": [
    "# define a function named word_count()\n",
    "def word_count(col, df=df):\n",
    "    # concatenate every row first, then split\n",
    "    my_lst = df[col].str.cat(sep='|').split('|')\n",
    "    my_series = pd.Series(my_lst)\n",
    "    return my_series.value_counts()"
   ]
  },
  {
   "cell_type": "code",
   "execution_count": 27,
   "metadata": {
    "collapsed": true
   },
   "outputs": [],
   "source": [
    "# set title, label, and ticks for the plot\n",
    "def fig_labels(title, xlabel, ylabel, xtick_loc=None, xtick_lab=None, ytick_loc=None, ytick_lab=None):\n",
    "    plt.title(title, fontweight='bold', fontsize=15)\n",
    "    plt.xlabel(xlabel, fontweight='bold', fontsize=12)\n",
    "    plt.ylabel(ylabel, fontweight='bold', fontsize=12)\n",
    "    plt.xticks(xtick_loc, xtick_lab, fontweight ='bold', fontsize=12)\n",
    "    plt.yticks(ytick_loc, ytick_lab, fontweight='bold', fontsize=12)\n",
    "    return"
   ]
  },
  {
   "cell_type": "markdown",
   "metadata": {},
   "source": [
    "<a name='questions'></a>\n",
    "### Research Question\n",
    "#### Part 1: General Explore\n",
    "#### Q1. Movies which made most and least profit"
   ]
  },
  {
   "cell_type": "code",
   "execution_count": 28,
   "metadata": {},
   "outputs": [
    {
     "data": {
      "text/html": [
       "<div>\n",
       "<style>\n",
       "    .dataframe thead tr:only-child th {\n",
       "        text-align: right;\n",
       "    }\n",
       "\n",
       "    .dataframe thead th {\n",
       "        text-align: left;\n",
       "    }\n",
       "\n",
       "    .dataframe tbody tr th {\n",
       "        vertical-align: top;\n",
       "    }\n",
       "</style>\n",
       "<table border=\"1\" class=\"dataframe\">\n",
       "  <thead>\n",
       "    <tr style=\"text-align: right;\">\n",
       "      <th></th>\n",
       "      <th>Avatar</th>\n",
       "      <th>The Warrior's Way</th>\n",
       "    </tr>\n",
       "  </thead>\n",
       "  <tbody>\n",
       "    <tr>\n",
       "      <th>budget</th>\n",
       "      <td>237000000</td>\n",
       "      <td>425000000</td>\n",
       "    </tr>\n",
       "    <tr>\n",
       "      <th>revenue</th>\n",
       "      <td>2781505847</td>\n",
       "      <td>11087569</td>\n",
       "    </tr>\n",
       "    <tr>\n",
       "      <th>profit</th>\n",
       "      <td>2544505847</td>\n",
       "      <td>-413912431</td>\n",
       "    </tr>\n",
       "    <tr>\n",
       "      <th>runtime</th>\n",
       "      <td>162</td>\n",
       "      <td>100</td>\n",
       "    </tr>\n",
       "  </tbody>\n",
       "</table>\n",
       "</div>"
      ],
      "text/plain": [
       "             Avatar The Warrior's Way\n",
       "budget    237000000         425000000\n",
       "revenue  2781505847          11087569\n",
       "profit   2544505847        -413912431\n",
       "runtime         162               100"
      ]
     },
     "execution_count": 28,
     "metadata": {},
     "output_type": "execute_result"
    }
   ],
   "source": [
    "# use mum_table() to find information about movies with max/min 'profit'\n",
    "mum_table('profit', df).iloc[4:8]"
   ]
  },
  {
   "cell_type": "markdown",
   "metadata": {},
   "source": [
    "> As we can see, most profitable movie was `Avatar` <br>\n",
    "and least (or worst) profitable movie was `The Warrior's Way`.\n",
    "\n",
    "#### How about top 3 and bottom 3 movies (total 6) in profit ?"
   ]
  },
  {
   "cell_type": "code",
   "execution_count": 29,
   "metadata": {},
   "outputs": [
    {
     "data": {
      "text/html": [
       "<div>\n",
       "<style>\n",
       "    .dataframe thead tr:only-child th {\n",
       "        text-align: right;\n",
       "    }\n",
       "\n",
       "    .dataframe thead th {\n",
       "        text-align: left;\n",
       "    }\n",
       "\n",
       "    .dataframe tbody tr th {\n",
       "        vertical-align: top;\n",
       "    }\n",
       "</style>\n",
       "<table border=\"1\" class=\"dataframe\">\n",
       "  <thead>\n",
       "    <tr style=\"text-align: right;\">\n",
       "      <th></th>\n",
       "      <th>original_title</th>\n",
       "      <th>genres</th>\n",
       "      <th>director</th>\n",
       "      <th>cast</th>\n",
       "      <th>release_year</th>\n",
       "      <th>budget</th>\n",
       "      <th>revenue</th>\n",
       "      <th>profit</th>\n",
       "      <th>runtime</th>\n",
       "      <th>vote_count</th>\n",
       "      <th>vote_average</th>\n",
       "      <th>popularity</th>\n",
       "      <th>total_vote_point</th>\n",
       "    </tr>\n",
       "  </thead>\n",
       "  <tbody>\n",
       "    <tr>\n",
       "      <th>0</th>\n",
       "      <td>Avatar</td>\n",
       "      <td>Action|Adventure|Fantasy|Science Fiction</td>\n",
       "      <td>James Cameron</td>\n",
       "      <td>Sam Worthington|Zoe Saldana|Sigourney Weaver|S...</td>\n",
       "      <td>2009</td>\n",
       "      <td>237000000</td>\n",
       "      <td>2781505847</td>\n",
       "      <td>2544505847</td>\n",
       "      <td>162</td>\n",
       "      <td>8458</td>\n",
       "      <td>7.1</td>\n",
       "      <td>9.432768</td>\n",
       "      <td>60051.8</td>\n",
       "    </tr>\n",
       "    <tr>\n",
       "      <th>1</th>\n",
       "      <td>Star Wars: The Force Awakens</td>\n",
       "      <td>Action|Adventure|Science Fiction|Fantasy</td>\n",
       "      <td>J.J. Abrams</td>\n",
       "      <td>Harrison Ford|Mark Hamill|Carrie Fisher|Adam D...</td>\n",
       "      <td>2015</td>\n",
       "      <td>200000000</td>\n",
       "      <td>2068178225</td>\n",
       "      <td>1868178225</td>\n",
       "      <td>136</td>\n",
       "      <td>5292</td>\n",
       "      <td>7.5</td>\n",
       "      <td>11.173104</td>\n",
       "      <td>39690.0</td>\n",
       "    </tr>\n",
       "    <tr>\n",
       "      <th>2</th>\n",
       "      <td>Titanic</td>\n",
       "      <td>Drama|Romance|Thriller</td>\n",
       "      <td>James Cameron</td>\n",
       "      <td>Kate Winslet|Leonardo DiCaprio|Frances Fisher|...</td>\n",
       "      <td>1997</td>\n",
       "      <td>200000000</td>\n",
       "      <td>1845034188</td>\n",
       "      <td>1645034188</td>\n",
       "      <td>194</td>\n",
       "      <td>4654</td>\n",
       "      <td>7.3</td>\n",
       "      <td>4.355219</td>\n",
       "      <td>33974.2</td>\n",
       "    </tr>\n",
       "  </tbody>\n",
       "</table>\n",
       "</div>"
      ],
      "text/plain": [
       "                 original_title                                    genres  \\\n",
       "0                        Avatar  Action|Adventure|Fantasy|Science Fiction   \n",
       "1  Star Wars: The Force Awakens  Action|Adventure|Science Fiction|Fantasy   \n",
       "2                       Titanic                    Drama|Romance|Thriller   \n",
       "\n",
       "        director                                               cast  \\\n",
       "0  James Cameron  Sam Worthington|Zoe Saldana|Sigourney Weaver|S...   \n",
       "1    J.J. Abrams  Harrison Ford|Mark Hamill|Carrie Fisher|Adam D...   \n",
       "2  James Cameron  Kate Winslet|Leonardo DiCaprio|Frances Fisher|...   \n",
       "\n",
       "   release_year     budget     revenue      profit  runtime  vote_count  \\\n",
       "0          2009  237000000  2781505847  2544505847      162        8458   \n",
       "1          2015  200000000  2068178225  1868178225      136        5292   \n",
       "2          1997  200000000  1845034188  1645034188      194        4654   \n",
       "\n",
       "   vote_average  popularity  total_vote_point  \n",
       "0           7.1    9.432768           60051.8  \n",
       "1           7.5   11.173104           39690.0  \n",
       "2           7.3    4.355219           33974.2  "
      ]
     },
     "execution_count": 29,
     "metadata": {},
     "output_type": "execute_result"
    }
   ],
   "source": [
    "# Top 3 profitable movies\n",
    "top_profit, bot_profit = n_extrema('profit', 3)\n",
    "top_profit"
   ]
  },
  {
   "cell_type": "code",
   "execution_count": 30,
   "metadata": {},
   "outputs": [
    {
     "data": {
      "text/html": [
       "<div>\n",
       "<style>\n",
       "    .dataframe thead tr:only-child th {\n",
       "        text-align: right;\n",
       "    }\n",
       "\n",
       "    .dataframe thead th {\n",
       "        text-align: left;\n",
       "    }\n",
       "\n",
       "    .dataframe tbody tr th {\n",
       "        vertical-align: top;\n",
       "    }\n",
       "</style>\n",
       "<table border=\"1\" class=\"dataframe\">\n",
       "  <thead>\n",
       "    <tr style=\"text-align: right;\">\n",
       "      <th></th>\n",
       "      <th>original_title</th>\n",
       "      <th>genres</th>\n",
       "      <th>director</th>\n",
       "      <th>cast</th>\n",
       "      <th>release_year</th>\n",
       "      <th>budget</th>\n",
       "      <th>revenue</th>\n",
       "      <th>profit</th>\n",
       "      <th>runtime</th>\n",
       "      <th>vote_count</th>\n",
       "      <th>vote_average</th>\n",
       "      <th>popularity</th>\n",
       "      <th>total_vote_point</th>\n",
       "    </tr>\n",
       "  </thead>\n",
       "  <tbody>\n",
       "    <tr>\n",
       "      <th>0</th>\n",
       "      <td>The Warrior's Way</td>\n",
       "      <td>Adventure|Fantasy|Action|Western|Thriller</td>\n",
       "      <td>Sngmoo Lee</td>\n",
       "      <td>Kate Bosworth|Jang Dong-gun|Geoffrey Rush|Dann...</td>\n",
       "      <td>2010</td>\n",
       "      <td>425000000</td>\n",
       "      <td>11087569</td>\n",
       "      <td>-413912431</td>\n",
       "      <td>100</td>\n",
       "      <td>74</td>\n",
       "      <td>6.4</td>\n",
       "      <td>0.25054</td>\n",
       "      <td>473.6</td>\n",
       "    </tr>\n",
       "    <tr>\n",
       "      <th>1</th>\n",
       "      <td>The Lone Ranger</td>\n",
       "      <td>Action|Adventure|Western</td>\n",
       "      <td>Gore Verbinski</td>\n",
       "      <td>Johnny Depp|Armie Hammer|William Fichtner|Hele...</td>\n",
       "      <td>2013</td>\n",
       "      <td>255000000</td>\n",
       "      <td>89289910</td>\n",
       "      <td>-165710090</td>\n",
       "      <td>149</td>\n",
       "      <td>1607</td>\n",
       "      <td>6.0</td>\n",
       "      <td>1.21451</td>\n",
       "      <td>9642.0</td>\n",
       "    </tr>\n",
       "    <tr>\n",
       "      <th>2</th>\n",
       "      <td>The Alamo</td>\n",
       "      <td>Western|History|War</td>\n",
       "      <td>John Lee Hancock</td>\n",
       "      <td>Dennis Quaid|Billy Bob Thornton|Jason Patric|P...</td>\n",
       "      <td>2004</td>\n",
       "      <td>145000000</td>\n",
       "      <td>25819961</td>\n",
       "      <td>-119180039</td>\n",
       "      <td>137</td>\n",
       "      <td>60</td>\n",
       "      <td>5.9</td>\n",
       "      <td>0.94856</td>\n",
       "      <td>354.0</td>\n",
       "    </tr>\n",
       "  </tbody>\n",
       "</table>\n",
       "</div>"
      ],
      "text/plain": [
       "      original_title                                     genres  \\\n",
       "0  The Warrior's Way  Adventure|Fantasy|Action|Western|Thriller   \n",
       "1    The Lone Ranger                   Action|Adventure|Western   \n",
       "2          The Alamo                        Western|History|War   \n",
       "\n",
       "           director                                               cast  \\\n",
       "0        Sngmoo Lee  Kate Bosworth|Jang Dong-gun|Geoffrey Rush|Dann...   \n",
       "1    Gore Verbinski  Johnny Depp|Armie Hammer|William Fichtner|Hele...   \n",
       "2  John Lee Hancock  Dennis Quaid|Billy Bob Thornton|Jason Patric|P...   \n",
       "\n",
       "   release_year     budget   revenue     profit  runtime  vote_count  \\\n",
       "0          2010  425000000  11087569 -413912431      100          74   \n",
       "1          2013  255000000  89289910 -165710090      149        1607   \n",
       "2          2004  145000000  25819961 -119180039      137          60   \n",
       "\n",
       "   vote_average  popularity  total_vote_point  \n",
       "0           6.4     0.25054             473.6  \n",
       "1           6.0     1.21451            9642.0  \n",
       "2           5.9     0.94856             354.0  "
      ]
     },
     "execution_count": 30,
     "metadata": {},
     "output_type": "execute_result"
    }
   ],
   "source": [
    "# Bottom 3 profitable movies\n",
    "bot_profit"
   ]
  },
  {
   "cell_type": "markdown",
   "metadata": {},
   "source": [
    "> Let's see them with a graph."
   ]
  },
  {
   "cell_type": "code",
   "execution_count": 31,
   "metadata": {},
   "outputs": [
    {
     "data": {
      "image/png": "[encoded data removed]",
      "text/plain": [
       "<matplotlib.figure.Figure at 0xc6ce208>"
      ]
     },
     "metadata": {},
     "output_type": "display_data"
    }
   ],
   "source": [
    "# define figure size,\n",
    "plt.figure(figsize=(10, 5))\n",
    "\n",
    "# placeholder for each bar\n",
    "location = [i+1 for i in top_profit.index]\n",
    "\n",
    "# values for each bar\n",
    "height = top_profit['profit'].tolist()\n",
    "height2 = bot_profit['profit'].tolist()\n",
    "\n",
    "# bar chart using seaborn/ applying palette to distinguish high to low profits\n",
    "sns.barplot(location, height, palette='Blues_d')\n",
    "sns.barplot(location, height2, palette=reversed(sns.color_palette('Reds')))\n",
    "\n",
    "# remove xticks\n",
    "plt.xticks([])\n",
    "\n",
    "# set title, labels, and ticks\n",
    "plt.title('Top 3 and Bottom 3 Profitable Movies')\n",
    "plt.xlabel('Movies')\n",
    "plt.ylabel('Profit (USD)')\n",
    "\n",
    "\n",
    "# adjust figure window\n",
    "plt.ylim(-1E9, 3E9)\n",
    "\n",
    "# placing each movies' title above or below their bar\n",
    "for i, v in enumerate(height):\n",
    "    plt.text(i, v+0.5E8, top_profit['original_title'][i], color='black',\n",
    "             fontweight='bold', ha='center', fontsize=12)\n",
    "\n",
    "for i, v in enumerate(height2):\n",
    "    plt.text(i, v-1.5E8, bot_profit['original_title'][i], color='black',\n",
    "             fontweight='bold', ha='center', fontsize=12);"
   ]
  },
  {
   "cell_type": "markdown",
   "metadata": {},
   "source": [
    "> - 3 most profitable movies are `Avatar`, `Start Wars: The Force Awakens`, and `Titanic`. <br>\n",
    "- 3 worst profitable movies are `The Warrior's Way`, `The Lone Ranger`, and `The Alamo`. \n",
    "- The difference between `Avatar` and `The Warrior's Way` in profit is approximately 3 billion USD\n",
    "\n",
    "<a name='question2'></a>"
   ]
  },
  {
   "cell_type": "markdown",
   "metadata": {},
   "source": [
    "<a id='r1q1'></a>\n",
    "#### Q2  Popularity Over Years"
   ]
  },
  {
   "cell_type": "markdown",
   "metadata": {},
   "source": [
    "To explore this question, let's take a look of the dataset."
   ]
  },
  {
   "cell_type": "code",
   "execution_count": 32,
   "metadata": {},
   "outputs": [
    {
     "data": {
      "text/html": [
       "<div>\n",
       "<style>\n",
       "    .dataframe thead tr:only-child th {\n",
       "        text-align: right;\n",
       "    }\n",
       "\n",
       "    .dataframe thead th {\n",
       "        text-align: left;\n",
       "    }\n",
       "\n",
       "    .dataframe tbody tr th {\n",
       "        vertical-align: top;\n",
       "    }\n",
       "</style>\n",
       "<table border=\"1\" class=\"dataframe\">\n",
       "  <thead>\n",
       "    <tr style=\"text-align: right;\">\n",
       "      <th></th>\n",
       "      <th>original_title</th>\n",
       "      <th>genres</th>\n",
       "      <th>director</th>\n",
       "      <th>cast</th>\n",
       "      <th>release_year</th>\n",
       "      <th>budget</th>\n",
       "      <th>revenue</th>\n",
       "      <th>profit</th>\n",
       "      <th>runtime</th>\n",
       "      <th>vote_count</th>\n",
       "      <th>vote_average</th>\n",
       "      <th>popularity</th>\n",
       "      <th>total_vote_point</th>\n",
       "    </tr>\n",
       "  </thead>\n",
       "  <tbody>\n",
       "    <tr>\n",
       "      <th>0</th>\n",
       "      <td>Jurassic World</td>\n",
       "      <td>Action|Adventure|Science Fiction|Thriller</td>\n",
       "      <td>Colin Trevorrow</td>\n",
       "      <td>Chris Pratt|Bryce Dallas Howard|Irrfan Khan|Vi...</td>\n",
       "      <td>2015</td>\n",
       "      <td>150000000</td>\n",
       "      <td>1513528810</td>\n",
       "      <td>1363528810</td>\n",
       "      <td>124</td>\n",
       "      <td>5562</td>\n",
       "      <td>6.5</td>\n",
       "      <td>32.985763</td>\n",
       "      <td>36153.0</td>\n",
       "    </tr>\n",
       "    <tr>\n",
       "      <th>1</th>\n",
       "      <td>Mad Max: Fury Road</td>\n",
       "      <td>Action|Adventure|Science Fiction|Thriller</td>\n",
       "      <td>George Miller</td>\n",
       "      <td>Tom Hardy|Charlize Theron|Hugh Keays-Byrne|Nic...</td>\n",
       "      <td>2015</td>\n",
       "      <td>150000000</td>\n",
       "      <td>378436354</td>\n",
       "      <td>228436354</td>\n",
       "      <td>120</td>\n",
       "      <td>6185</td>\n",
       "      <td>7.1</td>\n",
       "      <td>28.419936</td>\n",
       "      <td>43913.5</td>\n",
       "    </tr>\n",
       "  </tbody>\n",
       "</table>\n",
       "</div>"
      ],
      "text/plain": [
       "       original_title                                     genres  \\\n",
       "0      Jurassic World  Action|Adventure|Science Fiction|Thriller   \n",
       "1  Mad Max: Fury Road  Action|Adventure|Science Fiction|Thriller   \n",
       "\n",
       "          director                                               cast  \\\n",
       "0  Colin Trevorrow  Chris Pratt|Bryce Dallas Howard|Irrfan Khan|Vi...   \n",
       "1    George Miller  Tom Hardy|Charlize Theron|Hugh Keays-Byrne|Nic...   \n",
       "\n",
       "   release_year     budget     revenue      profit  runtime  vote_count  \\\n",
       "0          2015  150000000  1513528810  1363528810      124        5562   \n",
       "1          2015  150000000   378436354   228436354      120        6185   \n",
       "\n",
       "   vote_average  popularity  total_vote_point  \n",
       "0           6.5   32.985763           36153.0  \n",
       "1           7.1   28.419936           43913.5  "
      ]
     },
     "execution_count": 32,
     "metadata": {},
     "output_type": "execute_result"
    }
   ],
   "source": [
    "df.head(2)"
   ]
  },
  {
   "cell_type": "markdown",
   "metadata": {},
   "source": [
    "To analysis the question, I computed the mean of popularity in each year, and then plot lines to see the trends. Moreever, since the popularity has no upper bound, in case the mean of popularity is affected by the outlier, I also compute the median for analysising this question. "
   ]
  },
  {
   "cell_type": "code",
   "execution_count": 33,
   "metadata": {},
   "outputs": [
    {
     "data": {
      "text/plain": [
       "release_year\n",
       "2011    1.202357\n",
       "2012    1.417230\n",
       "2013    1.398382\n",
       "2014    2.523676\n",
       "2015    2.856943\n",
       "Name: popularity, dtype: float64"
      ]
     },
     "execution_count": 33,
     "metadata": {},
     "output_type": "execute_result"
    }
   ],
   "source": [
    "# compute the mean for popularity\n",
    "p_mean = df.groupby('release_year').mean()['popularity']\n",
    "p_mean.tail()"
   ]
  },
  {
   "cell_type": "code",
   "execution_count": 34,
   "metadata": {},
   "outputs": [
    {
     "data": {
      "text/plain": [
       "release_year\n",
       "2011    0.907952\n",
       "2012    1.020104\n",
       "2013    1.055181\n",
       "2014    1.630150\n",
       "2015    1.982284\n",
       "Name: popularity, dtype: float64"
      ]
     },
     "execution_count": 34,
     "metadata": {},
     "output_type": "execute_result"
    }
   ],
   "source": [
    "# compute the median for popularity\n",
    "p_median = df.groupby('release_year').median()['popularity']\n",
    "p_median.tail()"
   ]
  },
  {
   "cell_type": "markdown",
   "metadata": {},
   "source": [
    "We can see that the median data for popularity is more smoother.\n",
    "\n",
    "Now, let's visualize it."
   ]
  },
  {
   "cell_type": "code",
   "execution_count": 35,
   "metadata": {
    "collapsed": true
   },
   "outputs": [],
   "source": [
    "# build the index location for x-axis\n",
    "index_mean = p_mean.index\n",
    "index_median = p_median.index"
   ]
  },
  {
   "cell_type": "code",
   "execution_count": 36,
   "metadata": {
    "scrolled": true
   },
   "outputs": [
    {
     "data": {
      "text/plain": [
       "<matplotlib.legend.Legend at 0xc1d12b0>"
      ]
     },
     "execution_count": 36,
     "metadata": {},
     "output_type": "execute_result"
    },
    {
     "data": {
      "image/png": "[encoded data removed]",
      "text/plain": [
       "<matplotlib.figure.Figure at 0xbce1dd8>"
      ]
     },
     "metadata": {},
     "output_type": "display_data"
    }
   ],
   "source": [
    "#set style\n",
    "sns.set_style('whitegrid')\n",
    "#set x, y axis data\n",
    "#x1, y1 for mean data; x2, y2 for median data\n",
    "x1, y1 = index_mean, p_mean\n",
    "x2, y2 = index_median, p_median\n",
    "#set size\n",
    "plt.figure(figsize=(9, 4))\n",
    "#plot line chart for mean and median\n",
    "plt.plot(x1, y1, color = 'b', label = 'mean')\n",
    "plt.plot(x2, y2, color = 'r', label = 'median')\n",
    "#set title and labels\n",
    "plt.title('Popularity Over Years')\n",
    "plt.xlabel('Year')\n",
    "plt.ylabel('Popularity');\n",
    "#set legend\n",
    "plt.legend(loc='upper left')"
   ]
  },
  {
   "cell_type": "markdown",
   "metadata": {},
   "source": [
    "From the figure above, we can see that the trend of popularity mean is upward year to year, and the peak is in the 2015, while the trend of popularity median is slightly smoother in recent years. We still can conclude that on average, popularity over years is going up in recent years. The trend is reasonable due to the eaiser access of movie information nowadays. Moreover, in the Internet age, people can easily search and gether movie information, even watch the content through different sources. Maybe it is such the backgroud that boost the movie popularity metrics."
   ]
  },
  {
   "cell_type": "markdown",
   "metadata": {},
   "source": [
    "<a id='r1q2'></a>\n",
    "#### Q3: The distribution of popularity in different revenue levels in recent five years. "
   ]
  },
  {
   "cell_type": "markdown",
   "metadata": {},
   "source": [
    "The movies popularity is growing up in recently years, but how about the popularity in different revenue levels? will popularity be more higher in high revenue level? In this research I don't dicuss the revenue trend since it is affected by many factors like inflation. Although the database contains the adjusted data but I just want the analysis be more simple. Moreever, if I find out the movie revenue trend is growing up, it still can't infer that the trend up is related to popularity just by looking the revenue trend line chart year by yaer.\n",
    "\n",
    "Hence, it leads me that what to find out the distribution of popularity look like in terms of different revenue levels. Which means I can see the what popularity with which revenue levels.  Dou to the revenue data contains wide range, to be more specific, I divided the revenue data into five levels: Low', 'Medium', 'Moderately High', 'High' according to their quartile. Also I choose the recent five years data to dicuss in order to focus on the current data feature."
   ]
  },
  {
   "cell_type": "markdown",
   "metadata": {},
   "source": [
    "**For the further usage of the level-diveded procedure with quartile, I build a `cut_into_quantile` function to divided data into four levels according to their quartile: 'Low', 'Medium', 'Moderately High', 'High'.**"
   ]
  },
  {
   "cell_type": "markdown",
   "metadata": {},
   "source": [
    "**The cut_into_quantile function- general use.**"
   ]
  },
  {
   "cell_type": "code",
   "execution_count": 37,
   "metadata": {
    "collapsed": true
   },
   "outputs": [],
   "source": [
    "# quartile function\n",
    "def cut_into_quantile(dfname ,column_name):\n",
    "# find quartile, max and min values\n",
    "    min_value = dfname[column_name].min()\n",
    "    first_quantile = dfname[column_name].describe()[4]\n",
    "    second_quantile = dfname[column_name].describe()[5]\n",
    "    third_quantile = dfname[column_name].describe()[6]\n",
    "    max_value = dfname[column_name].max()\n",
    "# Bin edges that will be used to \"cut\" the data into groups\n",
    "    bin_edges = [ min_value, first_quantile, second_quantile, third_quantile, max_value]\n",
    "# Labels for the four budget level groups\n",
    "    bin_names = [ 'Low', 'Medium', 'Moderately High', 'High'] \n",
    "# Creates budget_levels column\n",
    "    name = '{}_levels'.format(column_name)\n",
    "    dfname[name] = pd.cut(dfname[column_name], bin_edges, labels=bin_names, include_lowest = True)\n",
    "    return dfname"
   ]
  },
  {
   "cell_type": "markdown",
   "metadata": {},
   "source": [
    "**Since I want to explore the data by year to year in the question, so to avoide the different level affecting among each year's revenue, I divide revenue levels by with each year's revenue quartile .**"
   ]
  },
  {
   "cell_type": "code",
   "execution_count": 38,
   "metadata": {
    "scrolled": false
   },
   "outputs": [
    {
     "name": "stderr",
     "output_type": "stream",
     "text": [
      "C:\\Users\\apple\\Anaconda3\\lib\\site-packages\\ipykernel_launcher.py:15: SettingWithCopyWarning: \n",
      "A value is trying to be set on a copy of a slice from a DataFrame.\n",
      "Try using .loc[row_indexer,col_indexer] = value instead\n",
      "\n",
      "See the caveats in the documentation: http://pandas.pydata.org/pandas-docs/stable/indexing.html#indexing-view-versus-copy\n",
      "  from ipykernel import kernelapp as app\n"
     ]
    },
    {
     "name": "stdout",
     "output_type": "stream",
     "text": [
      "<class 'pandas.core.frame.DataFrame'>\n",
      "Int64Index: 861 entries, 1099 to 159\n",
      "Data columns (total 14 columns):\n",
      "original_title      861 non-null object\n",
      "genres              861 non-null object\n",
      "director            861 non-null object\n",
      "cast                861 non-null object\n",
      "release_year        861 non-null int64\n",
      "budget              861 non-null int64\n",
      "revenue             861 non-null int64\n",
      "profit              861 non-null int64\n",
      "runtime             861 non-null int64\n",
      "vote_count          861 non-null int64\n",
      "vote_average        861 non-null float64\n",
      "popularity          861 non-null float64\n",
      "total_vote_point    861 non-null float64\n",
      "revenue_levels      861 non-null category\n",
      "dtypes: category(1), float64(3), int64(6), object(4)\n",
      "memory usage: 95.2+ KB\n"
     ]
    }
   ],
   "source": [
    "#choose the recent five years \n",
    "dfyear =[2011,2012,2013,2014,2015]\n",
    "#creat a empty dataframe,df_q2\n",
    "df_q2 = pd.DataFrame()\n",
    "\n",
    "#for each year, do the following procedure\n",
    "for year in dfyear:\n",
    "    dfn = df.query('release_year == \"%s\"' % year) # first filter dataframe with the selected year \n",
    "    dfn2 = cut_into_quantile(dfn,'revenue') #apply the cut_into_quantile with the selected frame, store it to dfn2 \n",
    "    df_q2 = df_q2.append(dfn2) #append dfn2 to df_q2\n",
    "df_q2.info()"
   ]
  },
  {
   "cell_type": "markdown",
   "metadata": {},
   "source": [
    "Now we can see we create a `revenue_levels` column with the same rows with `revenue`."
   ]
  },
  {
   "cell_type": "markdown",
   "metadata": {},
   "source": [
    "Then use the dataset to explore the popularity in each level each year."
   ]
  },
  {
   "cell_type": "code",
   "execution_count": 39,
   "metadata": {
    "scrolled": true
   },
   "outputs": [
    {
     "data": {
      "text/html": [
       "<div>\n",
       "<style>\n",
       "    .dataframe thead tr:only-child th {\n",
       "        text-align: right;\n",
       "    }\n",
       "\n",
       "    .dataframe thead th {\n",
       "        text-align: left;\n",
       "    }\n",
       "\n",
       "    .dataframe tbody tr th {\n",
       "        vertical-align: top;\n",
       "    }\n",
       "</style>\n",
       "<table border=\"1\" class=\"dataframe\">\n",
       "  <thead>\n",
       "    <tr style=\"text-align: right;\">\n",
       "      <th></th>\n",
       "      <th></th>\n",
       "      <th>budget</th>\n",
       "      <th>revenue</th>\n",
       "      <th>profit</th>\n",
       "      <th>runtime</th>\n",
       "      <th>vote_count</th>\n",
       "      <th>vote_average</th>\n",
       "      <th>popularity</th>\n",
       "      <th>total_vote_point</th>\n",
       "    </tr>\n",
       "    <tr>\n",
       "      <th>release_year</th>\n",
       "      <th>revenue_levels</th>\n",
       "      <th></th>\n",
       "      <th></th>\n",
       "      <th></th>\n",
       "      <th></th>\n",
       "      <th></th>\n",
       "      <th></th>\n",
       "      <th></th>\n",
       "      <th></th>\n",
       "    </tr>\n",
       "  </thead>\n",
       "  <tbody>\n",
       "    <tr>\n",
       "      <th rowspan=\"4\" valign=\"top\">2014</th>\n",
       "      <th>Low</th>\n",
       "      <td>5500000.0</td>\n",
       "      <td>2440417.5</td>\n",
       "      <td>-2590996.5</td>\n",
       "      <td>100.0</td>\n",
       "      <td>193.0</td>\n",
       "      <td>6.15</td>\n",
       "      <td>0.751624</td>\n",
       "      <td>1143.65</td>\n",
       "    </tr>\n",
       "    <tr>\n",
       "      <th>Medium</th>\n",
       "      <td>15000000.0</td>\n",
       "      <td>34077920.0</td>\n",
       "      <td>16424533.0</td>\n",
       "      <td>106.0</td>\n",
       "      <td>377.0</td>\n",
       "      <td>6.20</td>\n",
       "      <td>0.981740</td>\n",
       "      <td>2268.00</td>\n",
       "    </tr>\n",
       "    <tr>\n",
       "      <th>Moderately High</th>\n",
       "      <td>40000000.0</td>\n",
       "      <td>106645357.0</td>\n",
       "      <td>72654149.0</td>\n",
       "      <td>106.0</td>\n",
       "      <td>720.0</td>\n",
       "      <td>6.20</td>\n",
       "      <td>1.805954</td>\n",
       "      <td>4345.00</td>\n",
       "    </tr>\n",
       "    <tr>\n",
       "      <th>High</th>\n",
       "      <td>120000000.0</td>\n",
       "      <td>362637473.0</td>\n",
       "      <td>250157400.0</td>\n",
       "      <td>113.0</td>\n",
       "      <td>2169.0</td>\n",
       "      <td>6.80</td>\n",
       "      <td>3.813740</td>\n",
       "      <td>16570.40</td>\n",
       "    </tr>\n",
       "    <tr>\n",
       "      <th rowspan=\"4\" valign=\"top\">2015</th>\n",
       "      <th>Low</th>\n",
       "      <td>9250000.0</td>\n",
       "      <td>3172497.0</td>\n",
       "      <td>-4048806.5</td>\n",
       "      <td>101.5</td>\n",
       "      <td>146.5</td>\n",
       "      <td>5.70</td>\n",
       "      <td>0.695024</td>\n",
       "      <td>812.55</td>\n",
       "    </tr>\n",
       "    <tr>\n",
       "      <th>Medium</th>\n",
       "      <td>16000000.0</td>\n",
       "      <td>36738078.5</td>\n",
       "      <td>18618199.0</td>\n",
       "      <td>106.0</td>\n",
       "      <td>470.5</td>\n",
       "      <td>6.20</td>\n",
       "      <td>1.696682</td>\n",
       "      <td>2758.00</td>\n",
       "    </tr>\n",
       "    <tr>\n",
       "      <th>Moderately High</th>\n",
       "      <td>30000000.0</td>\n",
       "      <td>94629376.0</td>\n",
       "      <td>58618937.0</td>\n",
       "      <td>114.0</td>\n",
       "      <td>720.0</td>\n",
       "      <td>6.30</td>\n",
       "      <td>2.035523</td>\n",
       "      <td>4405.55</td>\n",
       "    </tr>\n",
       "    <tr>\n",
       "      <th>High</th>\n",
       "      <td>103500000.0</td>\n",
       "      <td>350398577.0</td>\n",
       "      <td>254381560.0</td>\n",
       "      <td>120.5</td>\n",
       "      <td>1882.0</td>\n",
       "      <td>6.70</td>\n",
       "      <td>5.184985</td>\n",
       "      <td>12050.65</td>\n",
       "    </tr>\n",
       "  </tbody>\n",
       "</table>\n",
       "</div>"
      ],
      "text/plain": [
       "                                   budget      revenue       profit  runtime  \\\n",
       "release_year revenue_levels                                                    \n",
       "2014         Low                5500000.0    2440417.5   -2590996.5    100.0   \n",
       "             Medium            15000000.0   34077920.0   16424533.0    106.0   \n",
       "             Moderately High   40000000.0  106645357.0   72654149.0    106.0   \n",
       "             High             120000000.0  362637473.0  250157400.0    113.0   \n",
       "2015         Low                9250000.0    3172497.0   -4048806.5    101.5   \n",
       "             Medium            16000000.0   36738078.5   18618199.0    106.0   \n",
       "             Moderately High   30000000.0   94629376.0   58618937.0    114.0   \n",
       "             High             103500000.0  350398577.0  254381560.0    120.5   \n",
       "\n",
       "                              vote_count  vote_average  popularity  \\\n",
       "release_year revenue_levels                                          \n",
       "2014         Low                   193.0          6.15    0.751624   \n",
       "             Medium                377.0          6.20    0.981740   \n",
       "             Moderately High       720.0          6.20    1.805954   \n",
       "             High                 2169.0          6.80    3.813740   \n",
       "2015         Low                   146.5          5.70    0.695024   \n",
       "             Medium                470.5          6.20    1.696682   \n",
       "             Moderately High       720.0          6.30    2.035523   \n",
       "             High                 1882.0          6.70    5.184985   \n",
       "\n",
       "                              total_vote_point  \n",
       "release_year revenue_levels                     \n",
       "2014         Low                       1143.65  \n",
       "             Medium                    2268.00  \n",
       "             Moderately High           4345.00  \n",
       "             High                     16570.40  \n",
       "2015         Low                        812.55  \n",
       "             Medium                    2758.00  \n",
       "             Moderately High           4405.55  \n",
       "             High                     12050.65  "
      ]
     },
     "execution_count": 39,
     "metadata": {},
     "output_type": "execute_result"
    }
   ],
   "source": [
    "# group the dataframe we created above with each revenue levels in each year, find the popularity meadian\n",
    "dfq2_summary = df_q2.groupby(['release_year','revenue_levels']).median()\n",
    "dfq2_summary.tail(8)"
   ]
  },
  {
   "cell_type": "markdown",
   "metadata": {},
   "source": [
    "**Then plot a bar chart.**"
   ]
  },
  {
   "cell_type": "code",
   "execution_count": 40,
   "metadata": {
    "scrolled": true
   },
   "outputs": [
    {
     "data": {
      "image/png": "[encoded data removed]",
      "text/plain": [
       "<matplotlib.figure.Figure at 0xbff9d30>"
      ]
     },
     "metadata": {},
     "output_type": "display_data"
    }
   ],
   "source": [
    "# Setting the positions and width for the bars\n",
    "pos = list(range(len(dfq2_summary.query('revenue_levels ==\"Low\"'))))\n",
    "width = 0.2 \n",
    "\n",
    "# Plotting the bars\n",
    "fig, ax = plt.subplots(figsize=(10,5))\n",
    "\n",
    "# Create a bar with Low data, in position pos,\n",
    "plt.bar(pos, \n",
    "        #using 'Low' data,\n",
    "        dfq2_summary.query('revenue_levels ==\"Low\"')['popularity'], \n",
    "        # of width\n",
    "        width, \n",
    "        # with alpha 0.5\n",
    "        alpha=0.5, \n",
    "        # with color\n",
    "        color='#23dfee', \n",
    "        # with label Low\n",
    "        label= 'Low') \n",
    "\n",
    "# Create a bar with Medium data,\n",
    "# in position pos + some width buffer,\n",
    "plt.bar([p + width for p in pos], \n",
    "        #using Medium data,\n",
    "        dfq2_summary.query('revenue_levels ==\"Medium\"')['popularity'],\n",
    "        # of width\n",
    "        width, \n",
    "        # with alpha 0.5\n",
    "        alpha=0.5, \n",
    "        # with color\n",
    "        color='#ee237a', \n",
    "        # with label Medium\n",
    "        label='Medium') \n",
    "\n",
    "# Create a bar with Moderately High data,\n",
    "# in position pos + some width buffer,\n",
    "plt.bar([p + width*2 for p in pos], \n",
    "        #using Moderately High data,\n",
    "        dfq2_summary.query('revenue_levels ==\"Moderately High\"')['popularity'], \n",
    "        # of width\n",
    "        width, \n",
    "        # with alpha 0.5\n",
    "        alpha=0.5, \n",
    "        # with color\n",
    "        color='#9723ee', \n",
    "        # with label Moderately High\n",
    "        label='Moderately High') \n",
    "\n",
    "# Create a bar with High data,\n",
    "# in position pos + some width buffer,\n",
    "plt.bar([p + width*3 for p in pos], \n",
    "        #using High data,\n",
    "        dfq2_summary.query('revenue_levels ==\"High\"')['popularity'], \n",
    "        # of width\n",
    "        width, \n",
    "        # with alpha 0.5\n",
    "        alpha=0.5, \n",
    "        # with color\n",
    "        color='#fcff4e', \n",
    "        # with label High\n",
    "        label='High')\n",
    "\n",
    "# Set the y axis label\n",
    "ax.set_ylabel('popularity')\n",
    "\n",
    "# Set the chart's title\n",
    "ax.set_title('Popularity in Different Revenue Levels in Recent Five Years')\n",
    "\n",
    "# Set the position of the x ticks\n",
    "ax.set_xticks([p + 1.5 * width for p in pos])\n",
    "\n",
    "# Set the labels for the x ticks\n",
    "ax.set_xticklabels([2011,2012,2013,2014,2015])\n",
    "\n",
    "# Adding the legend and showing the plot\n",
    "plt.legend( loc='upper left')\n",
    "plt.grid()\n",
    "plt.show()"
   ]
  },
  {
   "cell_type": "markdown",
   "metadata": {},
   "source": [
    "**We can see that movies with higher revenue level are with higher popularity in recent five years.**\n",
    "\n",
    "We can see that revenue level has postive relation with popularity. The result is reasonable since it makes me think of if movie producer wants to make high revenue movies, the first thing they always is **to promote it and make it popular.** So according the result from the previous question, I infer that a high revenue movie is always with a higher popularity than movies with lower revenue levels. So if we define success of a movie is it's revenue, one property it has is the high popularity.\n",
    "\n",
    "**But what about the score rating distribution in different revenue levels of movies? Does high revenue level movie has the property of high score rating?** Let's explore on the next question."
   ]
  },
  {
   "cell_type": "markdown",
   "metadata": {},
   "source": [
    "<a id='r1q3'></a>\n",
    "### Q4: The distribution of revenue in different score rating levels in recent five years. "
   ]
  },
  {
   "cell_type": "markdown",
   "metadata": {},
   "source": [
    "Use the same procedure on Question 2 to explore this question."
   ]
  },
  {
   "cell_type": "code",
   "execution_count": 41,
   "metadata": {
    "scrolled": true
   },
   "outputs": [
    {
     "data": {
      "text/html": [
       "<div>\n",
       "<style>\n",
       "    .dataframe thead tr:only-child th {\n",
       "        text-align: right;\n",
       "    }\n",
       "\n",
       "    .dataframe thead th {\n",
       "        text-align: left;\n",
       "    }\n",
       "\n",
       "    .dataframe tbody tr th {\n",
       "        vertical-align: top;\n",
       "    }\n",
       "</style>\n",
       "<table border=\"1\" class=\"dataframe\">\n",
       "  <thead>\n",
       "    <tr style=\"text-align: right;\">\n",
       "      <th></th>\n",
       "      <th></th>\n",
       "      <th>budget</th>\n",
       "      <th>revenue</th>\n",
       "      <th>profit</th>\n",
       "      <th>runtime</th>\n",
       "      <th>vote_count</th>\n",
       "      <th>vote_average</th>\n",
       "      <th>popularity</th>\n",
       "      <th>total_vote_point</th>\n",
       "    </tr>\n",
       "    <tr>\n",
       "      <th>release_year</th>\n",
       "      <th>revenue_levels</th>\n",
       "      <th></th>\n",
       "      <th></th>\n",
       "      <th></th>\n",
       "      <th></th>\n",
       "      <th></th>\n",
       "      <th></th>\n",
       "      <th></th>\n",
       "      <th></th>\n",
       "    </tr>\n",
       "  </thead>\n",
       "  <tbody>\n",
       "    <tr>\n",
       "      <th rowspan=\"4\" valign=\"top\">2015</th>\n",
       "      <th>Low</th>\n",
       "      <td>11113688.1</td>\n",
       "      <td>4.852986e+06</td>\n",
       "      <td>-6.260702e+06</td>\n",
       "      <td>105.900</td>\n",
       "      <td>195.575</td>\n",
       "      <td>5.8025</td>\n",
       "      <td>0.960910</td>\n",
       "      <td>1149.4025</td>\n",
       "    </tr>\n",
       "    <tr>\n",
       "      <th>Medium</th>\n",
       "      <td>19675750.0</td>\n",
       "      <td>3.783011e+07</td>\n",
       "      <td>1.815436e+07</td>\n",
       "      <td>107.400</td>\n",
       "      <td>548.675</td>\n",
       "      <td>6.2275</td>\n",
       "      <td>1.837687</td>\n",
       "      <td>3573.4800</td>\n",
       "    </tr>\n",
       "    <tr>\n",
       "      <th>Moderately High</th>\n",
       "      <td>37277500.0</td>\n",
       "      <td>9.533252e+07</td>\n",
       "      <td>5.805502e+07</td>\n",
       "      <td>110.175</td>\n",
       "      <td>773.250</td>\n",
       "      <td>6.3275</td>\n",
       "      <td>2.209450</td>\n",
       "      <td>5038.7350</td>\n",
       "    </tr>\n",
       "    <tr>\n",
       "      <th>High</th>\n",
       "      <td>111202500.1</td>\n",
       "      <td>5.170575e+08</td>\n",
       "      <td>4.058550e+08</td>\n",
       "      <td>120.000</td>\n",
       "      <td>2366.725</td>\n",
       "      <td>6.6175</td>\n",
       "      <td>6.419725</td>\n",
       "      <td>16095.9750</td>\n",
       "    </tr>\n",
       "  </tbody>\n",
       "</table>\n",
       "</div>"
      ],
      "text/plain": [
       "                                   budget       revenue        profit  \\\n",
       "release_year revenue_levels                                             \n",
       "2015         Low               11113688.1  4.852986e+06 -6.260702e+06   \n",
       "             Medium            19675750.0  3.783011e+07  1.815436e+07   \n",
       "             Moderately High   37277500.0  9.533252e+07  5.805502e+07   \n",
       "             High             111202500.1  5.170575e+08  4.058550e+08   \n",
       "\n",
       "                              runtime  vote_count  vote_average  popularity  \\\n",
       "release_year revenue_levels                                                   \n",
       "2015         Low              105.900     195.575        5.8025    0.960910   \n",
       "             Medium           107.400     548.675        6.2275    1.837687   \n",
       "             Moderately High  110.175     773.250        6.3275    2.209450   \n",
       "             High             120.000    2366.725        6.6175    6.419725   \n",
       "\n",
       "                              total_vote_point  \n",
       "release_year revenue_levels                     \n",
       "2015         Low                     1149.4025  \n",
       "             Medium                  3573.4800  \n",
       "             Moderately High         5038.7350  \n",
       "             High                   16095.9750  "
      ]
     },
     "execution_count": 41,
     "metadata": {},
     "output_type": "execute_result"
    }
   ],
   "source": [
    "# group the dataframe we created above with each revenue levels in each year, find the vote_average mean\n",
    "dfq2_summary = df_q2.groupby(['release_year','revenue_levels']).mean()\n",
    "dfq2_summary.tail(4)"
   ]
  },
  {
   "cell_type": "markdown",
   "metadata": {},
   "source": [
    "Plot the bar chart."
   ]
  },
  {
   "cell_type": "code",
   "execution_count": 42,
   "metadata": {
    "scrolled": false
   },
   "outputs": [
    {
     "data": {
      "image/png": "[encoded data removed]",
      "text/plain": [
       "<matplotlib.figure.Figure at 0xc1f3fd0>"
      ]
     },
     "metadata": {},
     "output_type": "display_data"
    }
   ],
   "source": [
    "# Setting the positions and width for the bars\n",
    "pos = list(range(len(dfq2_summary.query('revenue_levels ==\"Low\"'))))\n",
    "width = 0.2 \n",
    "\n",
    "# Plotting the bars\n",
    "fig, ax = plt.subplots(figsize=(12,3))\n",
    "\n",
    "# Create a bar with Low data, in position pos,\n",
    "plt.bar(pos, \n",
    "        #using 'Low' data,\n",
    "        dfq2_summary.query('revenue_levels ==\"Low\"')['vote_average'], \n",
    "        # of width\n",
    "        width, \n",
    "        # with alpha 0.5\n",
    "        alpha=0.5, \n",
    "        # with color\n",
    "        color='#fb120a', \n",
    "        # with label Low\n",
    "        label= 'Low') \n",
    "\n",
    "# Create a bar with Medium data,\n",
    "# in position pos + some width buffer,\n",
    "plt.bar([p + width for p in pos], \n",
    "        #using Medium data,\n",
    "        dfq2_summary.query('revenue_levels ==\"Medium\"')['vote_average'],\n",
    "        # of width\n",
    "        width, \n",
    "        # with alpha 0.5\n",
    "        alpha=0.5, \n",
    "        # with color\n",
    "        color='#c140f5', \n",
    "        # with label Medium\n",
    "        label='Medium') \n",
    "\n",
    "# Create a bar with Moderately High data,\n",
    "# in position pos + some width buffer,\n",
    "plt.bar([p + width*2 for p in pos], \n",
    "        #using Moderately High data,\n",
    "        dfq2_summary.query('revenue_levels ==\"Moderately High\"')['vote_average'], \n",
    "        # of width\n",
    "        width, \n",
    "        # with alpha 0.5\n",
    "        alpha=0.5, \n",
    "        # with color\n",
    "         color='#ffff07', \n",
    "        # with label Moderately High\n",
    "        label='Moderately High') \n",
    "\n",
    "# Create a bar with High data,\n",
    "# in position pos + some width buffer,\n",
    "plt.bar([p + width*3 for p in pos], \n",
    "        #using High data,\n",
    "        dfq2_summary.query('revenue_levels ==\"High\"')['vote_average'], \n",
    "        # of width\n",
    "        width, \n",
    "        # with alpha 0.5\n",
    "        alpha=0.5, \n",
    "        # with color\n",
    "        color='#87f540',\n",
    "        # with label High\n",
    "        label='High')\n",
    "\n",
    "# Set the y axis label\n",
    "ax.set_ylabel('vote average')\n",
    "\n",
    "# Set the chart's title\n",
    "ax.set_title('Vote Average Score in Different Revenue Levels in Recent Five Years')\n",
    "\n",
    "# Set the position of the x ticks\n",
    "ax.set_xticks([p + 1.5 * width for p in pos])\n",
    "\n",
    "# Set the labels for the x ticks\n",
    "ax.set_xticklabels([2011,2012,2013,2014,2015])\n",
    "\n",
    "#set y-axis height\n",
    "plt.ylim(3, 10)\n",
    "\n",
    "# Adding the legend and showing the plot\n",
    "plt.legend(loc='upper left')\n",
    "plt.grid()\n",
    "plt.show()"
   ]
  },
  {
   "cell_type": "markdown",
   "metadata": {},
   "source": [
    "From the chart above, we can see that there is no big difference of movie rating between each revenue level. So it can be concluded that the high revenue movies don't have the significant high score rating."
   ]
  },
  {
   "cell_type": "markdown",
   "metadata": {},
   "source": [
    "##  Summary"
   ]
  },
  {
   "cell_type": "markdown",
   "metadata": {},
   "source": [
    "<b>\n",
    "1. Movie popularity trend is growing from 1960, I infer that it is with the background that nowadays movie information and rating system are more accessible by Internet with different channels.\n",
    "2. Movies with higher revenue level are with higher popularity in recent five years. In other words, a high revenue movie always with a higher popularity. So on the next part, I will explore: `What's properties that are associated with high popularity movies?` \n",
    "3. Movies with higher revenue level don't have the significant high score rating than other revenue levels in recent five years. So on the next part, I will explore: `What's properties that are associated with high rating movies?`\n",
    "</b>\n"
   ]
  },
  {
   "cell_type": "markdown",
   "metadata": {},
   "source": [
    "<a id='r2'></a>\n",
    "## Research Part 2 : Find the Properties are Associated with Successful Movies\n",
    "\n",
    "   - Question 1. What's the budget level movie are associated with movies that have high popularity?\n",
    "   - Question 2. What's the runtime level are associated with movies that have high popularity on average?\n",
    "   - Question 3. What's casts, directors,genres are associated with high popularity?\n",
    "\n",
    "  "
   ]
  },
  {
   "cell_type": "markdown",
   "metadata": {},
   "source": [
    "### Function and research sample prepare"
   ]
  },
  {
   "cell_type": "markdown",
   "metadata": {},
   "source": [
    "<b>\n",
    "In the dataset, the potential properties associated with movies can be `runtime`, `budget`, `cast`, `director`, `keywords`, `genres`, `production companies`. These data are including two types: quantitative data and categorical data. Both `runtime` and `budget` data are quantitative data; the others are categorical data.\n",
    "\n",
    "- For quantitative data, since the data is quantitative, I can devide the data into various levels and find the properties in all range of movies success, I choose to use the whole dataset and then divided runtime and budget into four levels according to their quartile: 'Low', 'Medium', 'Moderately High', 'High' in all time range. And then find out what's the runtime and budget level with higher degree of movies popularity/voting score.\n",
    "\n",
    "\n",
    "- For categorical data, which are `cast`, `director`, `keywords` and `genres`, since we are not necessary to discuss all the range of of movies success(which is also difficult to dicuss), I just focus on the high popularity or high rating, so I filter the top 100 popular/ high voting score movies data *in each year*, and then count the number of occurrences in every category every year to find their properties. Forthermore, in case that the top frequent occurrences are also appeared in the worst popular/ high voting score movies, I also filter the worst 100 popular/ high voting score movies in every year and then compare the result to top 100's. If the top frequent occurrences also appear in the worst movies, I am going to include these factors as properties associated with top movies as well as worst movies. Besides, these data are contain the pipe (|) characters so first I have to spilt them.\n",
    "</b>"
   ]
  },
  {
   "cell_type": "markdown",
   "metadata": {},
   "source": [
    "### <b>A. Function Prepare-- Build a level-devide function and a split string function.<b/>\n",
    "\n",
    "**A)The cut_into_quantile function- general use.**\n",
    "\n",
    "   The function is the same I ued in the Part 1 Question. So I just past it again below."
   ]
  },
  {
   "cell_type": "code",
   "execution_count": 43,
   "metadata": {
    "collapsed": true
   },
   "outputs": [],
   "source": [
    "# quartile function\n",
    "def cut_into_quantile(dfname ,column_name):\n",
    "# find quartile, max and min values\n",
    "    min_value = dfname[column_name].min()\n",
    "    first_quantile = dfname[column_name].describe()[4]\n",
    "    second_quantile = dfname[column_name].describe()[5]\n",
    "    third_quantile = dfname[column_name].describe()[6]\n",
    "    max_value = dfname[column_name].max()\n",
    "# Bin edges that will be used to \"cut\" the data into groups\n",
    "    bin_edges = [ min_value, first_quantile, second_quantile, third_quantile, max_value]\n",
    "# Labels for the four budget level groups\n",
    "    bin_names = [ 'Low', 'Medium', 'Moderately High', 'High'] \n",
    "# Creates budget_levels column\n",
    "    name = '{}_levels'.format(column_name)\n",
    "    dfname[name] = pd.cut(dfname[column_name], bin_edges, labels=bin_names, include_lowest = True)\n",
    "    return dfname"
   ]
  },
  {
   "cell_type": "markdown",
   "metadata": {},
   "source": [
    "**B) Split pipe (|) characters and then count their number of appeared times, then find the top three factor.**"
   ]
  },
  {
   "cell_type": "code",
   "execution_count": 44,
   "metadata": {
    "collapsed": true
   },
   "outputs": [],
   "source": [
    "# split pipe characters and count their number of appeared times\n",
    "#argument:dataframe_col is the target dataframe&column; num is the number of the top factor\n",
    "def find_top(dataframe_col, num=3):\n",
    "    # split the characters in the input column \n",
    "    #and make it to a list\n",
    "    alist = dataframe_col.str.cat(sep='|').split('|')\n",
    "    #transfer it to a dataframe\n",
    "    new = pd.DataFrame({'top' :alist})\n",
    "    #count their number of appeared times and\n",
    "    #choose the top3\n",
    "    top = new['top'].value_counts().head(num)\n",
    "    return top"
   ]
  },
  {
   "cell_type": "markdown",
   "metadata": {},
   "source": [
    "### <b>B. Sample prepare-- Filter Top 100 and Worst 100 movies in each year as the research sample.<b/>"
   ]
  },
  {
   "cell_type": "markdown",
   "metadata": {},
   "source": [
    "<b>A) Select Top 100 popular movies in every year.</b>"
   ]
  },
  {
   "cell_type": "code",
   "execution_count": 45,
   "metadata": {
    "scrolled": true
   },
   "outputs": [
    {
     "data": {
      "text/html": [
       "<div>\n",
       "<style>\n",
       "    .dataframe thead tr:only-child th {\n",
       "        text-align: right;\n",
       "    }\n",
       "\n",
       "    .dataframe thead th {\n",
       "        text-align: left;\n",
       "    }\n",
       "\n",
       "    .dataframe tbody tr th {\n",
       "        vertical-align: top;\n",
       "    }\n",
       "</style>\n",
       "<table border=\"1\" class=\"dataframe\">\n",
       "  <thead>\n",
       "    <tr style=\"text-align: right;\">\n",
       "      <th></th>\n",
       "      <th>original_title</th>\n",
       "      <th>genres</th>\n",
       "      <th>director</th>\n",
       "      <th>cast</th>\n",
       "      <th>release_year</th>\n",
       "      <th>budget</th>\n",
       "      <th>revenue</th>\n",
       "      <th>profit</th>\n",
       "      <th>runtime</th>\n",
       "      <th>vote_count</th>\n",
       "      <th>vote_average</th>\n",
       "      <th>popularity</th>\n",
       "      <th>total_vote_point</th>\n",
       "    </tr>\n",
       "  </thead>\n",
       "  <tbody>\n",
       "    <tr>\n",
       "      <th>0</th>\n",
       "      <td>Psycho</td>\n",
       "      <td>Drama|Horror|Thriller</td>\n",
       "      <td>Alfred Hitchcock</td>\n",
       "      <td>Anthony Perkins|Vera Miles|John Gavin|Janet Le...</td>\n",
       "      <td>1960</td>\n",
       "      <td>806948</td>\n",
       "      <td>32000000</td>\n",
       "      <td>31193052</td>\n",
       "      <td>109</td>\n",
       "      <td>1180</td>\n",
       "      <td>8.0</td>\n",
       "      <td>2.610362</td>\n",
       "      <td>9440.0</td>\n",
       "    </tr>\n",
       "    <tr>\n",
       "      <th>1</th>\n",
       "      <td>The Magnificent Seven</td>\n",
       "      <td>Action|Adventure|Western</td>\n",
       "      <td>John Sturges</td>\n",
       "      <td>Yul Brynner|Eli Wallach|Steve McQueen|Charles ...</td>\n",
       "      <td>1960</td>\n",
       "      <td>2000000</td>\n",
       "      <td>4905000</td>\n",
       "      <td>2905000</td>\n",
       "      <td>128</td>\n",
       "      <td>224</td>\n",
       "      <td>7.0</td>\n",
       "      <td>1.872132</td>\n",
       "      <td>1568.0</td>\n",
       "    </tr>\n",
       "  </tbody>\n",
       "</table>\n",
       "</div>"
      ],
      "text/plain": [
       "          original_title                    genres          director  \\\n",
       "0                 Psycho     Drama|Horror|Thriller  Alfred Hitchcock   \n",
       "1  The Magnificent Seven  Action|Adventure|Western      John Sturges   \n",
       "\n",
       "                                                cast  release_year   budget  \\\n",
       "0  Anthony Perkins|Vera Miles|John Gavin|Janet Le...          1960   806948   \n",
       "1  Yul Brynner|Eli Wallach|Steve McQueen|Charles ...          1960  2000000   \n",
       "\n",
       "    revenue    profit  runtime  vote_count  vote_average  popularity  \\\n",
       "0  32000000  31193052      109        1180           8.0    2.610362   \n",
       "1   4905000   2905000      128         224           7.0    1.872132   \n",
       "\n",
       "   total_vote_point  \n",
       "0            9440.0  \n",
       "1            1568.0  "
      ]
     },
     "execution_count": 45,
     "metadata": {},
     "output_type": "execute_result"
    }
   ],
   "source": [
    "# Select Top 100 popular movies.\n",
    "# fisrt sort it by release year ascending and popularity descending\n",
    "df_top_p = df.sort_values(['release_year','popularity'], ascending=[True, False])\n",
    "#group by year and choose the top 100 high\n",
    "df_top_p = df_top_p.groupby('release_year').head(100).reset_index(drop=True)\n",
    "#check, it must start from 1960, and with high popularity to low\n",
    "df_top_p.head(2)"
   ]
  },
  {
   "cell_type": "markdown",
   "metadata": {},
   "source": [
    "<b>B) Select Top 100 high revenue movies in every year.</b>"
   ]
  },
  {
   "cell_type": "code",
   "execution_count": 46,
   "metadata": {},
   "outputs": [
    {
     "data": {
      "text/html": [
       "<div>\n",
       "<style>\n",
       "    .dataframe thead tr:only-child th {\n",
       "        text-align: right;\n",
       "    }\n",
       "\n",
       "    .dataframe thead th {\n",
       "        text-align: left;\n",
       "    }\n",
       "\n",
       "    .dataframe tbody tr th {\n",
       "        vertical-align: top;\n",
       "    }\n",
       "</style>\n",
       "<table border=\"1\" class=\"dataframe\">\n",
       "  <thead>\n",
       "    <tr style=\"text-align: right;\">\n",
       "      <th></th>\n",
       "      <th>original_title</th>\n",
       "      <th>genres</th>\n",
       "      <th>director</th>\n",
       "      <th>cast</th>\n",
       "      <th>release_year</th>\n",
       "      <th>budget</th>\n",
       "      <th>revenue</th>\n",
       "      <th>profit</th>\n",
       "      <th>runtime</th>\n",
       "      <th>vote_count</th>\n",
       "      <th>vote_average</th>\n",
       "      <th>popularity</th>\n",
       "      <th>total_vote_point</th>\n",
       "    </tr>\n",
       "  </thead>\n",
       "  <tbody>\n",
       "    <tr>\n",
       "      <th>0</th>\n",
       "      <td>Spartacus</td>\n",
       "      <td>Action|Drama|History</td>\n",
       "      <td>Stanley Kubrick</td>\n",
       "      <td>Kirk Douglas|Laurence Olivier|Jean Simmons|Cha...</td>\n",
       "      <td>1960</td>\n",
       "      <td>12000000</td>\n",
       "      <td>60000000</td>\n",
       "      <td>48000000</td>\n",
       "      <td>197</td>\n",
       "      <td>211</td>\n",
       "      <td>6.9</td>\n",
       "      <td>1.136943</td>\n",
       "      <td>1455.9</td>\n",
       "    </tr>\n",
       "    <tr>\n",
       "      <th>1</th>\n",
       "      <td>Psycho</td>\n",
       "      <td>Drama|Horror|Thriller</td>\n",
       "      <td>Alfred Hitchcock</td>\n",
       "      <td>Anthony Perkins|Vera Miles|John Gavin|Janet Le...</td>\n",
       "      <td>1960</td>\n",
       "      <td>806948</td>\n",
       "      <td>32000000</td>\n",
       "      <td>31193052</td>\n",
       "      <td>109</td>\n",
       "      <td>1180</td>\n",
       "      <td>8.0</td>\n",
       "      <td>2.610362</td>\n",
       "      <td>9440.0</td>\n",
       "    </tr>\n",
       "  </tbody>\n",
       "</table>\n",
       "</div>"
      ],
      "text/plain": [
       "  original_title                 genres          director  \\\n",
       "0      Spartacus   Action|Drama|History   Stanley Kubrick   \n",
       "1         Psycho  Drama|Horror|Thriller  Alfred Hitchcock   \n",
       "\n",
       "                                                cast  release_year    budget  \\\n",
       "0  Kirk Douglas|Laurence Olivier|Jean Simmons|Cha...          1960  12000000   \n",
       "1  Anthony Perkins|Vera Miles|John Gavin|Janet Le...          1960    806948   \n",
       "\n",
       "    revenue    profit  runtime  vote_count  vote_average  popularity  \\\n",
       "0  60000000  48000000      197         211           6.9    1.136943   \n",
       "1  32000000  31193052      109        1180           8.0    2.610362   \n",
       "\n",
       "   total_vote_point  \n",
       "0            1455.9  \n",
       "1            9440.0  "
      ]
     },
     "execution_count": 46,
     "metadata": {},
     "output_type": "execute_result"
    }
   ],
   "source": [
    "# Select Top 100 high revenue movies.\n",
    "# fisrt sort it by release year ascending and revenue descending\n",
    "df_top_r = df.sort_values(['release_year','revenue'], ascending=[True, False])\n",
    "#group by year and choose the top 100 high\n",
    "df_top_r = df_top_r.groupby('release_year').head(100).reset_index(drop=True)\n",
    "#check, it must start from 1960, and with high revenue to low\n",
    "df_top_r.head(2)"
   ]
  },
  {
   "cell_type": "markdown",
   "metadata": {},
   "source": [
    "<b>C) Select Top 100 high score rating  movies in every year.</b>"
   ]
  },
  {
   "cell_type": "code",
   "execution_count": 47,
   "metadata": {},
   "outputs": [
    {
     "data": {
      "text/html": [
       "<div>\n",
       "<style>\n",
       "    .dataframe thead tr:only-child th {\n",
       "        text-align: right;\n",
       "    }\n",
       "\n",
       "    .dataframe thead th {\n",
       "        text-align: left;\n",
       "    }\n",
       "\n",
       "    .dataframe tbody tr th {\n",
       "        vertical-align: top;\n",
       "    }\n",
       "</style>\n",
       "<table border=\"1\" class=\"dataframe\">\n",
       "  <thead>\n",
       "    <tr style=\"text-align: right;\">\n",
       "      <th></th>\n",
       "      <th>original_title</th>\n",
       "      <th>genres</th>\n",
       "      <th>director</th>\n",
       "      <th>cast</th>\n",
       "      <th>release_year</th>\n",
       "      <th>budget</th>\n",
       "      <th>revenue</th>\n",
       "      <th>profit</th>\n",
       "      <th>runtime</th>\n",
       "      <th>vote_count</th>\n",
       "      <th>vote_average</th>\n",
       "      <th>popularity</th>\n",
       "      <th>total_vote_point</th>\n",
       "    </tr>\n",
       "  </thead>\n",
       "  <tbody>\n",
       "    <tr>\n",
       "      <th>0</th>\n",
       "      <td>Psycho</td>\n",
       "      <td>Drama|Horror|Thriller</td>\n",
       "      <td>Alfred Hitchcock</td>\n",
       "      <td>Anthony Perkins|Vera Miles|John Gavin|Janet Le...</td>\n",
       "      <td>1960</td>\n",
       "      <td>806948</td>\n",
       "      <td>32000000</td>\n",
       "      <td>31193052</td>\n",
       "      <td>109</td>\n",
       "      <td>1180</td>\n",
       "      <td>8.0</td>\n",
       "      <td>2.610362</td>\n",
       "      <td>9440.0</td>\n",
       "    </tr>\n",
       "    <tr>\n",
       "      <th>1</th>\n",
       "      <td>The Apartment</td>\n",
       "      <td>Comedy|Drama|Romance</td>\n",
       "      <td>Billy Wilder</td>\n",
       "      <td>Jack Lemmon|Shirley MacLaine|Fred MacMurray|Ra...</td>\n",
       "      <td>1960</td>\n",
       "      <td>3000000</td>\n",
       "      <td>25000000</td>\n",
       "      <td>22000000</td>\n",
       "      <td>125</td>\n",
       "      <td>235</td>\n",
       "      <td>7.9</td>\n",
       "      <td>0.947307</td>\n",
       "      <td>1856.5</td>\n",
       "    </tr>\n",
       "  </tbody>\n",
       "</table>\n",
       "</div>"
      ],
      "text/plain": [
       "  original_title                 genres          director  \\\n",
       "0         Psycho  Drama|Horror|Thriller  Alfred Hitchcock   \n",
       "1  The Apartment   Comedy|Drama|Romance      Billy Wilder   \n",
       "\n",
       "                                                cast  release_year   budget  \\\n",
       "0  Anthony Perkins|Vera Miles|John Gavin|Janet Le...          1960   806948   \n",
       "1  Jack Lemmon|Shirley MacLaine|Fred MacMurray|Ra...          1960  3000000   \n",
       "\n",
       "    revenue    profit  runtime  vote_count  vote_average  popularity  \\\n",
       "0  32000000  31193052      109        1180           8.0    2.610362   \n",
       "1  25000000  22000000      125         235           7.9    0.947307   \n",
       "\n",
       "   total_vote_point  \n",
       "0            9440.0  \n",
       "1            1856.5  "
      ]
     },
     "execution_count": 47,
     "metadata": {},
     "output_type": "execute_result"
    }
   ],
   "source": [
    "# Select Top 100 high scorer ating movies.\n",
    "# fisrt sort it by release year ascending and high scorer ating descending\n",
    "df_top_s = df.sort_values(['release_year','vote_average'], ascending=[True, False])\n",
    "#group by year and choose the top 100 high\n",
    "df_top_s = df_top_s.groupby('release_year').head(100).reset_index(drop=True)\n",
    "#check, it must start from 1960, and with high scorer ating to low\n",
    "df_top_s.head(2)"
   ]
  },
  {
   "cell_type": "markdown",
   "metadata": {},
   "source": [
    "<b>D) To compare to results, I also create three subdataset for the last 100 movies.</b>"
   ]
  },
  {
   "cell_type": "code",
   "execution_count": 48,
   "metadata": {
    "collapsed": true
   },
   "outputs": [],
   "source": [
    "# the last 100 popular movies in every year\n",
    "df_low_p = df.sort_values(['release_year','popularity'], ascending=[True, True])\n",
    "df_low_p = df_low_p.groupby('release_year').head(100).reset_index(drop=True)\n",
    "# the last 100 high revenue movies in every year\n",
    "df_low_r = df.sort_values(['release_year','revenue'], ascending=[True, True])\n",
    "df_low_r = df_low_r.groupby('release_year').head(100).reset_index(drop=True)\n",
    "# the last 100 score rating movies in every year\n",
    "df_low_s = df.sort_values(['release_year','vote_average'], ascending=[True, True])\n",
    "df_low_s = df_low_s.groupby('release_year').head(100).reset_index(drop=True)"
   ]
  },
  {
   "cell_type": "markdown",
   "metadata": {},
   "source": [
    "<a id='r2q1'></a>\n",
    "### Question 1. What's the budget level movie are associated with movies that have high popularity?\n"
   ]
  },
  {
   "cell_type": "markdown",
   "metadata": {},
   "source": [
    "First, divided budget data into four levels with it's quartile: 'Low', 'Medium', 'Moderately High', 'High' and create a level column."
   ]
  },
  {
   "cell_type": "code",
   "execution_count": 49,
   "metadata": {
    "scrolled": false
   },
   "outputs": [
    {
     "data": {
      "text/html": [
       "<div>\n",
       "<style>\n",
       "    .dataframe thead tr:only-child th {\n",
       "        text-align: right;\n",
       "    }\n",
       "\n",
       "    .dataframe thead th {\n",
       "        text-align: left;\n",
       "    }\n",
       "\n",
       "    .dataframe tbody tr th {\n",
       "        vertical-align: top;\n",
       "    }\n",
       "</style>\n",
       "<table border=\"1\" class=\"dataframe\">\n",
       "  <thead>\n",
       "    <tr style=\"text-align: right;\">\n",
       "      <th></th>\n",
       "      <th>original_title</th>\n",
       "      <th>genres</th>\n",
       "      <th>director</th>\n",
       "      <th>cast</th>\n",
       "      <th>release_year</th>\n",
       "      <th>budget</th>\n",
       "      <th>revenue</th>\n",
       "      <th>profit</th>\n",
       "      <th>runtime</th>\n",
       "      <th>vote_count</th>\n",
       "      <th>vote_average</th>\n",
       "      <th>popularity</th>\n",
       "      <th>total_vote_point</th>\n",
       "      <th>budget_levels</th>\n",
       "    </tr>\n",
       "  </thead>\n",
       "  <tbody>\n",
       "    <tr>\n",
       "      <th>0</th>\n",
       "      <td>Jurassic World</td>\n",
       "      <td>Action|Adventure|Science Fiction|Thriller</td>\n",
       "      <td>Colin Trevorrow</td>\n",
       "      <td>Chris Pratt|Bryce Dallas Howard|Irrfan Khan|Vi...</td>\n",
       "      <td>2015</td>\n",
       "      <td>150000000</td>\n",
       "      <td>1513528810</td>\n",
       "      <td>1363528810</td>\n",
       "      <td>124</td>\n",
       "      <td>5562</td>\n",
       "      <td>6.5</td>\n",
       "      <td>32.985763</td>\n",
       "      <td>36153.0</td>\n",
       "      <td>High</td>\n",
       "    </tr>\n",
       "  </tbody>\n",
       "</table>\n",
       "</div>"
      ],
      "text/plain": [
       "   original_title                                     genres         director  \\\n",
       "0  Jurassic World  Action|Adventure|Science Fiction|Thriller  Colin Trevorrow   \n",
       "\n",
       "                                                cast  release_year     budget  \\\n",
       "0  Chris Pratt|Bryce Dallas Howard|Irrfan Khan|Vi...          2015  150000000   \n",
       "\n",
       "      revenue      profit  runtime  vote_count  vote_average  popularity  \\\n",
       "0  1513528810  1363528810      124        5562           6.5   32.985763   \n",
       "\n",
       "   total_vote_point budget_levels  \n",
       "0           36153.0          High  "
      ]
     },
     "execution_count": 49,
     "metadata": {},
     "output_type": "execute_result"
    }
   ],
   "source": [
    "# use cut_into_quantile function to build a level column\n",
    "df = cut_into_quantile(df,'budget')\n",
    "df.head(1)"
   ]
  },
  {
   "cell_type": "markdown",
   "metadata": {},
   "source": [
    "From the table above, I built a `budget_levels` columns."
   ]
  },
  {
   "cell_type": "code",
   "execution_count": 50,
   "metadata": {
    "scrolled": true
   },
   "outputs": [
    {
     "data": {
      "text/plain": [
       "budget_levels\n",
       "Low                0.688351\n",
       "Medium             0.951718\n",
       "Moderately High    1.142414\n",
       "High               2.080911\n",
       "Name: popularity, dtype: float64"
      ]
     },
     "execution_count": 50,
     "metadata": {},
     "output_type": "execute_result"
    }
   ],
   "source": [
    "# Find the mean and median popularity of each level with groupby\n",
    "result_mean = df.groupby('budget_levels')['popularity'].mean()\n",
    "result_mean "
   ]
  },
  {
   "cell_type": "code",
   "execution_count": 51,
   "metadata": {
    "scrolled": true
   },
   "outputs": [
    {
     "data": {
      "text/plain": [
       "budget_levels\n",
       "Low                0.502800\n",
       "Medium             0.702632\n",
       "Moderately High    0.887989\n",
       "High               1.443270\n",
       "Name: popularity, dtype: float64"
      ]
     },
     "execution_count": 51,
     "metadata": {},
     "output_type": "execute_result"
    }
   ],
   "source": [
    "result_median = df.groupby('budget_levels')['popularity'].median()\n",
    "result_median"
   ]
  },
  {
   "cell_type": "markdown",
   "metadata": {},
   "source": [
    "Let's visualize it."
   ]
  },
  {
   "cell_type": "code",
   "execution_count": 52,
   "metadata": {},
   "outputs": [
    {
     "data": {
      "text/plain": [
       "array([0, 1, 2, 3])"
      ]
     },
     "execution_count": 52,
     "metadata": {},
     "output_type": "execute_result"
    }
   ],
   "source": [
    "# the x locations for the groups\n",
    "ind = np.arange(len(result_mean))  \n",
    "# the width of the bars\n",
    "width = 0.5       \n",
    "ind"
   ]
  },
  {
   "cell_type": "code",
   "execution_count": 53,
   "metadata": {},
   "outputs": [
    {
     "data": {
      "text/plain": [
       "<matplotlib.legend.Legend at 0xbfda9e8>"
      ]
     },
     "execution_count": 53,
     "metadata": {},
     "output_type": "execute_result"
    },
    {
     "data": {
      "image/png": "[encoded data removed]",
      "text/plain": [
       "<matplotlib.figure.Figure at 0xc567240>"
      ]
     },
     "metadata": {},
     "output_type": "display_data"
    }
   ],
   "source": [
    "# plot bars\n",
    "#set style\n",
    "sns.set_style('darkgrid')\n",
    "bars = plt.bar(ind, result_mean, width, color='g', alpha=.7, label='mean')\n",
    "\n",
    "# title and labels\n",
    "plt.ylabel('popularity')\n",
    "plt.xlabel('budget levels')\n",
    "plt.title('Popularity with Budget Levels')\n",
    "locations = ind  # xtick locations，345...\n",
    "labels = result_median.index  \n",
    "plt.xticks(locations, labels)\n",
    "# legend\n",
    "plt.legend() "
   ]
  },
  {
   "cell_type": "markdown",
   "metadata": {},
   "source": [
    "**From the figure above, we can see that movies with higher popularity are with higher budget level.** The result is reasonable since movies with higher popularity may has a higher promoting advertising cost. And with the high promotion level people always have more probability to get know these movies. "
   ]
  },
  {
   "cell_type": "markdown",
   "metadata": {},
   "source": [
    "### question.2 What's the runtime level are associated with movies that have high popularity on average?"
   ]
  },
  {
   "cell_type": "markdown",
   "metadata": {},
   "source": [
    "Divided runtime data into four levels with it's quartile: 'Short', 'Medium', 'Moderately Long', 'Long'."
   ]
  },
  {
   "cell_type": "code",
   "execution_count": 54,
   "metadata": {
    "scrolled": true
   },
   "outputs": [
    {
     "data": {
      "text/html": [
       "<div>\n",
       "<style>\n",
       "    .dataframe thead tr:only-child th {\n",
       "        text-align: right;\n",
       "    }\n",
       "\n",
       "    .dataframe thead th {\n",
       "        text-align: left;\n",
       "    }\n",
       "\n",
       "    .dataframe tbody tr th {\n",
       "        vertical-align: top;\n",
       "    }\n",
       "</style>\n",
       "<table border=\"1\" class=\"dataframe\">\n",
       "  <thead>\n",
       "    <tr style=\"text-align: right;\">\n",
       "      <th></th>\n",
       "      <th>original_title</th>\n",
       "      <th>genres</th>\n",
       "      <th>director</th>\n",
       "      <th>cast</th>\n",
       "      <th>release_year</th>\n",
       "      <th>budget</th>\n",
       "      <th>revenue</th>\n",
       "      <th>profit</th>\n",
       "      <th>runtime</th>\n",
       "      <th>vote_count</th>\n",
       "      <th>vote_average</th>\n",
       "      <th>popularity</th>\n",
       "      <th>total_vote_point</th>\n",
       "      <th>budget_levels</th>\n",
       "      <th>runtime_levels</th>\n",
       "    </tr>\n",
       "  </thead>\n",
       "  <tbody>\n",
       "    <tr>\n",
       "      <th>0</th>\n",
       "      <td>Jurassic World</td>\n",
       "      <td>Action|Adventure|Science Fiction|Thriller</td>\n",
       "      <td>Colin Trevorrow</td>\n",
       "      <td>Chris Pratt|Bryce Dallas Howard|Irrfan Khan|Vi...</td>\n",
       "      <td>2015</td>\n",
       "      <td>150000000</td>\n",
       "      <td>1513528810</td>\n",
       "      <td>1363528810</td>\n",
       "      <td>124</td>\n",
       "      <td>5562</td>\n",
       "      <td>6.5</td>\n",
       "      <td>32.985763</td>\n",
       "      <td>36153.0</td>\n",
       "      <td>High</td>\n",
       "      <td>High</td>\n",
       "    </tr>\n",
       "  </tbody>\n",
       "</table>\n",
       "</div>"
      ],
      "text/plain": [
       "   original_title                                     genres         director  \\\n",
       "0  Jurassic World  Action|Adventure|Science Fiction|Thriller  Colin Trevorrow   \n",
       "\n",
       "                                                cast  release_year     budget  \\\n",
       "0  Chris Pratt|Bryce Dallas Howard|Irrfan Khan|Vi...          2015  150000000   \n",
       "\n",
       "      revenue      profit  runtime  vote_count  vote_average  popularity  \\\n",
       "0  1513528810  1363528810      124        5562           6.5   32.985763   \n",
       "\n",
       "   total_vote_point budget_levels runtime_levels  \n",
       "0           36153.0          High           High  "
      ]
     },
     "execution_count": 54,
     "metadata": {},
     "output_type": "execute_result"
    }
   ],
   "source": [
    "df = cut_into_quantile(df,'runtime')\n",
    "df.head(1)"
   ]
  },
  {
   "cell_type": "code",
   "execution_count": 55,
   "metadata": {
    "scrolled": true
   },
   "outputs": [
    {
     "data": {
      "text/plain": [
       "runtime_levels\n",
       "Low                0.901775\n",
       "Medium             0.990496\n",
       "Moderately High    1.180785\n",
       "High               1.728969\n",
       "Name: popularity, dtype: float64"
      ]
     },
     "execution_count": 55,
     "metadata": {},
     "output_type": "execute_result"
    }
   ],
   "source": [
    "# Find the mean popularity of each level with groupby\n",
    "result_mean = df.groupby('runtime_levels')['popularity'].mean()\n",
    "result_mean"
   ]
  },
  {
   "cell_type": "code",
   "execution_count": 56,
   "metadata": {},
   "outputs": [
    {
     "data": {
      "text/plain": [
       "runtime_levels\n",
       "Low                0.663819\n",
       "Medium             0.744112\n",
       "Moderately High    0.862925\n",
       "High               1.015877\n",
       "Name: popularity, dtype: float64"
      ]
     },
     "execution_count": 56,
     "metadata": {},
     "output_type": "execute_result"
    }
   ],
   "source": [
    "# Find the median popularity of each level with groupby\n",
    "result_median = df.groupby('runtime_levels')['popularity'].median()\n",
    "result_median"
   ]
  },
  {
   "cell_type": "markdown",
   "metadata": {},
   "source": [
    "Let's visualize it."
   ]
  },
  {
   "cell_type": "code",
   "execution_count": 57,
   "metadata": {
    "collapsed": true
   },
   "outputs": [],
   "source": [
    "ind = np.arange(len(result_median))  # the x locations for the groups\n",
    "width = 0.5       # the width of the bars"
   ]
  },
  {
   "cell_type": "code",
   "execution_count": 58,
   "metadata": {
    "scrolled": true
   },
   "outputs": [
    {
     "data": {
      "text/plain": [
       "<matplotlib.legend.Legend at 0xc75a358>"
      ]
     },
     "execution_count": 58,
     "metadata": {},
     "output_type": "execute_result"
    },
    {
     "data": {
      "image/png": "[encoded data removed]",
      "text/plain": [
       "<matplotlib.figure.Figure at 0xc177518>"
      ]
     },
     "metadata": {},
     "output_type": "display_data"
    }
   ],
   "source": [
    "# plot bars\n",
    "bars = plt.bar(ind, result_median, width, color='#1ea2bc', alpha=.7, label='median')\n",
    "\n",
    "# title and labels\n",
    "plt.ylabel('popularity')\n",
    "plt.xlabel('runtime levels')\n",
    "plt.title('Popularity with Runtime Levels')\n",
    "locations = ind  # xtick locations，345...\n",
    "labels = result_median.index  \n",
    "plt.xticks(locations, labels)\n",
    "# legend\n",
    "plt.legend() "
   ]
  },
  {
   "cell_type": "markdown",
   "metadata": {},
   "source": [
    "**We can see that the higher popularity movies has longer run time.**"
   ]
  },
  {
   "cell_type": "markdown",
   "metadata": {},
   "source": [
    "### Queation.3 What's casts, directors, genres are associated with high popularity?"
   ]
  },
  {
   "cell_type": "markdown",
   "metadata": {},
   "source": [
    "**First, choose the dataset-df_top_p. It is the dataframe about top 100 popular movies in each year.**"
   ]
  },
  {
   "cell_type": "code",
   "execution_count": 59,
   "metadata": {
    "scrolled": true
   },
   "outputs": [
    {
     "data": {
      "text/html": [
       "<div>\n",
       "<style>\n",
       "    .dataframe thead tr:only-child th {\n",
       "        text-align: right;\n",
       "    }\n",
       "\n",
       "    .dataframe thead th {\n",
       "        text-align: left;\n",
       "    }\n",
       "\n",
       "    .dataframe tbody tr th {\n",
       "        vertical-align: top;\n",
       "    }\n",
       "</style>\n",
       "<table border=\"1\" class=\"dataframe\">\n",
       "  <thead>\n",
       "    <tr style=\"text-align: right;\">\n",
       "      <th></th>\n",
       "      <th>original_title</th>\n",
       "      <th>genres</th>\n",
       "      <th>director</th>\n",
       "      <th>cast</th>\n",
       "      <th>release_year</th>\n",
       "      <th>budget</th>\n",
       "      <th>revenue</th>\n",
       "      <th>profit</th>\n",
       "      <th>runtime</th>\n",
       "      <th>vote_count</th>\n",
       "      <th>vote_average</th>\n",
       "      <th>popularity</th>\n",
       "      <th>total_vote_point</th>\n",
       "    </tr>\n",
       "  </thead>\n",
       "  <tbody>\n",
       "    <tr>\n",
       "      <th>0</th>\n",
       "      <td>Psycho</td>\n",
       "      <td>Drama|Horror|Thriller</td>\n",
       "      <td>Alfred Hitchcock</td>\n",
       "      <td>Anthony Perkins|Vera Miles|John Gavin|Janet Le...</td>\n",
       "      <td>1960</td>\n",
       "      <td>806948</td>\n",
       "      <td>32000000</td>\n",
       "      <td>31193052</td>\n",
       "      <td>109</td>\n",
       "      <td>1180</td>\n",
       "      <td>8.0</td>\n",
       "      <td>2.610362</td>\n",
       "      <td>9440.0</td>\n",
       "    </tr>\n",
       "    <tr>\n",
       "      <th>1</th>\n",
       "      <td>The Magnificent Seven</td>\n",
       "      <td>Action|Adventure|Western</td>\n",
       "      <td>John Sturges</td>\n",
       "      <td>Yul Brynner|Eli Wallach|Steve McQueen|Charles ...</td>\n",
       "      <td>1960</td>\n",
       "      <td>2000000</td>\n",
       "      <td>4905000</td>\n",
       "      <td>2905000</td>\n",
       "      <td>128</td>\n",
       "      <td>224</td>\n",
       "      <td>7.0</td>\n",
       "      <td>1.872132</td>\n",
       "      <td>1568.0</td>\n",
       "    </tr>\n",
       "  </tbody>\n",
       "</table>\n",
       "</div>"
      ],
      "text/plain": [
       "          original_title                    genres          director  \\\n",
       "0                 Psycho     Drama|Horror|Thriller  Alfred Hitchcock   \n",
       "1  The Magnificent Seven  Action|Adventure|Western      John Sturges   \n",
       "\n",
       "                                                cast  release_year   budget  \\\n",
       "0  Anthony Perkins|Vera Miles|John Gavin|Janet Le...          1960   806948   \n",
       "1  Yul Brynner|Eli Wallach|Steve McQueen|Charles ...          1960  2000000   \n",
       "\n",
       "    revenue    profit  runtime  vote_count  vote_average  popularity  \\\n",
       "0  32000000  31193052      109        1180           8.0    2.610362   \n",
       "1   4905000   2905000      128         224           7.0    1.872132   \n",
       "\n",
       "   total_vote_point  \n",
       "0            9440.0  \n",
       "1            1568.0  "
      ]
     },
     "execution_count": 59,
     "metadata": {},
     "output_type": "execute_result"
    }
   ],
   "source": [
    "df_top_p.head(2)"
   ]
  },
  {
   "cell_type": "markdown",
   "metadata": {},
   "source": [
    "**Then, find the three highest occurrences in each category among the top 100 popular movies. And store the result table into variables in order to create a summary table.**"
   ]
  },
  {
   "cell_type": "code",
   "execution_count": 60,
   "metadata": {
    "collapsed": true
   },
   "outputs": [],
   "source": [
    "# find top three cast\n",
    "a = find_top(df_top_p.cast)\n",
    "# find top three director\n",
    "b = find_top(df_top_p.director)\n",
    "\n",
    "# find top three genres\n",
    "d = find_top(df_top_p.genres)\n"
   ]
  },
  {
   "cell_type": "markdown",
   "metadata": {},
   "source": [
    "**Use the result above to create a summary table.**"
   ]
  },
  {
   "cell_type": "code",
   "execution_count": 61,
   "metadata": {
    "scrolled": false
   },
   "outputs": [
    {
     "data": {
      "text/html": [
       "<div>\n",
       "<style>\n",
       "    .dataframe thead tr:only-child th {\n",
       "        text-align: right;\n",
       "    }\n",
       "\n",
       "    .dataframe thead th {\n",
       "        text-align: left;\n",
       "    }\n",
       "\n",
       "    .dataframe tbody tr th {\n",
       "        vertical-align: top;\n",
       "    }\n",
       "</style>\n",
       "<table border=\"1\" class=\"dataframe\">\n",
       "  <thead>\n",
       "    <tr style=\"text-align: right;\">\n",
       "      <th></th>\n",
       "      <th>popular_cast</th>\n",
       "      <th>popular_director</th>\n",
       "      <th>popular_genres</th>\n",
       "    </tr>\n",
       "  </thead>\n",
       "  <tbody>\n",
       "    <tr>\n",
       "      <th>0</th>\n",
       "      <td>Robert De Niro</td>\n",
       "      <td>Steven Spielberg</td>\n",
       "      <td>Drama</td>\n",
       "    </tr>\n",
       "    <tr>\n",
       "      <th>1</th>\n",
       "      <td>Samuel L. Jackson</td>\n",
       "      <td>Ridley Scott</td>\n",
       "      <td>Comedy</td>\n",
       "    </tr>\n",
       "    <tr>\n",
       "      <th>2</th>\n",
       "      <td>Bruce Willis</td>\n",
       "      <td>Clint Eastwood</td>\n",
       "      <td>Thriller</td>\n",
       "    </tr>\n",
       "  </tbody>\n",
       "</table>\n",
       "</div>"
      ],
      "text/plain": [
       "        popular_cast  popular_director popular_genres\n",
       "0     Robert De Niro  Steven Spielberg          Drama\n",
       "1  Samuel L. Jackson      Ridley Scott         Comedy\n",
       "2       Bruce Willis    Clint Eastwood       Thriller"
      ]
     },
     "execution_count": 61,
     "metadata": {},
     "output_type": "execute_result"
    }
   ],
   "source": [
    "#Use the result above to create a summary dataframe.\n",
    "df_popular = pd.DataFrame({'popular_cast': a.index, 'popular_director': b.index, 'popular_genres': d.index})\n",
    "df_popular"
   ]
  },
  {
   "cell_type": "markdown",
   "metadata": {},
   "source": [
    "**Finally, find the three highest occurrences in each category among the 100 unpopular movies.**"
   ]
  },
  {
   "cell_type": "code",
   "execution_count": 62,
   "metadata": {},
   "outputs": [
    {
     "data": {
      "text/html": [
       "<div>\n",
       "<style>\n",
       "    .dataframe thead tr:only-child th {\n",
       "        text-align: right;\n",
       "    }\n",
       "\n",
       "    .dataframe thead th {\n",
       "        text-align: left;\n",
       "    }\n",
       "\n",
       "    .dataframe tbody tr th {\n",
       "        vertical-align: top;\n",
       "    }\n",
       "</style>\n",
       "<table border=\"1\" class=\"dataframe\">\n",
       "  <thead>\n",
       "    <tr style=\"text-align: right;\">\n",
       "      <th></th>\n",
       "      <th>original_title</th>\n",
       "      <th>genres</th>\n",
       "      <th>director</th>\n",
       "      <th>cast</th>\n",
       "      <th>release_year</th>\n",
       "      <th>budget</th>\n",
       "      <th>revenue</th>\n",
       "      <th>profit</th>\n",
       "      <th>runtime</th>\n",
       "      <th>vote_count</th>\n",
       "      <th>vote_average</th>\n",
       "      <th>popularity</th>\n",
       "      <th>total_vote_point</th>\n",
       "    </tr>\n",
       "  </thead>\n",
       "  <tbody>\n",
       "    <tr>\n",
       "      <th>0</th>\n",
       "      <td>Cinderfella</td>\n",
       "      <td>Comedy|Romance</td>\n",
       "      <td>Frank Tashlin</td>\n",
       "      <td>Jerry Lewis|Ed Wynn|Judith Anderson|Henry Silv...</td>\n",
       "      <td>1960</td>\n",
       "      <td>3000000</td>\n",
       "      <td>7100000</td>\n",
       "      <td>4100000</td>\n",
       "      <td>91</td>\n",
       "      <td>13</td>\n",
       "      <td>7.2</td>\n",
       "      <td>0.055821</td>\n",
       "      <td>93.6</td>\n",
       "    </tr>\n",
       "    <tr>\n",
       "      <th>1</th>\n",
       "      <td>The Apartment</td>\n",
       "      <td>Comedy|Drama|Romance</td>\n",
       "      <td>Billy Wilder</td>\n",
       "      <td>Jack Lemmon|Shirley MacLaine|Fred MacMurray|Ra...</td>\n",
       "      <td>1960</td>\n",
       "      <td>3000000</td>\n",
       "      <td>25000000</td>\n",
       "      <td>22000000</td>\n",
       "      <td>125</td>\n",
       "      <td>235</td>\n",
       "      <td>7.9</td>\n",
       "      <td>0.947307</td>\n",
       "      <td>1856.5</td>\n",
       "    </tr>\n",
       "  </tbody>\n",
       "</table>\n",
       "</div>"
      ],
      "text/plain": [
       "  original_title                genres       director  \\\n",
       "0    Cinderfella        Comedy|Romance  Frank Tashlin   \n",
       "1  The Apartment  Comedy|Drama|Romance   Billy Wilder   \n",
       "\n",
       "                                                cast  release_year   budget  \\\n",
       "0  Jerry Lewis|Ed Wynn|Judith Anderson|Henry Silv...          1960  3000000   \n",
       "1  Jack Lemmon|Shirley MacLaine|Fred MacMurray|Ra...          1960  3000000   \n",
       "\n",
       "    revenue    profit  runtime  vote_count  vote_average  popularity  \\\n",
       "0   7100000   4100000       91          13           7.2    0.055821   \n",
       "1  25000000  22000000      125         235           7.9    0.947307   \n",
       "\n",
       "   total_vote_point  \n",
       "0              93.6  \n",
       "1            1856.5  "
      ]
     },
     "execution_count": 62,
     "metadata": {},
     "output_type": "execute_result"
    }
   ],
   "source": [
    "# call the dataset wiht the 100 unpopular movies in each year\n",
    "df_low_p.head(2)"
   ]
  },
  {
   "cell_type": "code",
   "execution_count": 63,
   "metadata": {
    "collapsed": true
   },
   "outputs": [],
   "source": [
    "# find top three cast among the among the 100 unpopular movies\n",
    "na = find_top(df_low_p.cast)\n",
    "# find top three director among the among the 100 unpopular movies\n",
    "nb = find_top(df_low_p.director)\n",
    "# find top three genres among the among the 100 unpopular movies\n",
    "nd = find_top(df_low_p.genres)\n"
   ]
  },
  {
   "cell_type": "code",
   "execution_count": 64,
   "metadata": {
    "scrolled": true
   },
   "outputs": [
    {
     "data": {
      "text/html": [
       "<div>\n",
       "<style>\n",
       "    .dataframe thead tr:only-child th {\n",
       "        text-align: right;\n",
       "    }\n",
       "\n",
       "    .dataframe thead th {\n",
       "        text-align: left;\n",
       "    }\n",
       "\n",
       "    .dataframe tbody tr th {\n",
       "        vertical-align: top;\n",
       "    }\n",
       "</style>\n",
       "<table border=\"1\" class=\"dataframe\">\n",
       "  <thead>\n",
       "    <tr style=\"text-align: right;\">\n",
       "      <th></th>\n",
       "      <th>unpopular_cast</th>\n",
       "      <th>unpopular_director</th>\n",
       "      <th>unpopular_genres</th>\n",
       "    </tr>\n",
       "  </thead>\n",
       "  <tbody>\n",
       "    <tr>\n",
       "      <th>0</th>\n",
       "      <td>Robert De Niro</td>\n",
       "      <td>Clint Eastwood</td>\n",
       "      <td>Drama</td>\n",
       "    </tr>\n",
       "    <tr>\n",
       "      <th>1</th>\n",
       "      <td>Bruce Willis</td>\n",
       "      <td>Steven Spielberg</td>\n",
       "      <td>Comedy</td>\n",
       "    </tr>\n",
       "    <tr>\n",
       "      <th>2</th>\n",
       "      <td>Samuel L. Jackson</td>\n",
       "      <td>Woody Allen</td>\n",
       "      <td>Thriller</td>\n",
       "    </tr>\n",
       "  </tbody>\n",
       "</table>\n",
       "</div>"
      ],
      "text/plain": [
       "      unpopular_cast unpopular_director unpopular_genres\n",
       "0     Robert De Niro     Clint Eastwood            Drama\n",
       "1       Bruce Willis   Steven Spielberg           Comedy\n",
       "2  Samuel L. Jackson        Woody Allen         Thriller"
      ]
     },
     "execution_count": 64,
     "metadata": {},
     "output_type": "execute_result"
    }
   ],
   "source": [
    "df_unpopular = pd.DataFrame({'unpopular_cast': na.index, 'unpopular_director': nb.index,'unpopular_genres': nd.index})\n",
    "df_unpopular"
   ]
  },
  {
   "cell_type": "markdown",
   "metadata": {},
   "source": [
    "**Now, we get the two table that list the properties occurred the most among the top 100 popular movies each year, among the top 100 unpopular movies each year respectively.**\n",
    "\n",
    "**Now we can campare the two tables and find out What's casts, directors, keywords, genres and production companies are associated with high popularity.**"
   ]
  },
  {
   "cell_type": "code",
   "execution_count": 65,
   "metadata": {},
   "outputs": [
    {
     "data": {
      "text/html": [
       "<div>\n",
       "<style>\n",
       "    .dataframe thead tr:only-child th {\n",
       "        text-align: right;\n",
       "    }\n",
       "\n",
       "    .dataframe thead th {\n",
       "        text-align: left;\n",
       "    }\n",
       "\n",
       "    .dataframe tbody tr th {\n",
       "        vertical-align: top;\n",
       "    }\n",
       "</style>\n",
       "<table border=\"1\" class=\"dataframe\">\n",
       "  <thead>\n",
       "    <tr style=\"text-align: right;\">\n",
       "      <th></th>\n",
       "      <th>popular_cast</th>\n",
       "      <th>popular_director</th>\n",
       "      <th>popular_genres</th>\n",
       "    </tr>\n",
       "  </thead>\n",
       "  <tbody>\n",
       "    <tr>\n",
       "      <th>0</th>\n",
       "      <td>Robert De Niro</td>\n",
       "      <td>Steven Spielberg</td>\n",
       "      <td>Drama</td>\n",
       "    </tr>\n",
       "    <tr>\n",
       "      <th>1</th>\n",
       "      <td>Samuel L. Jackson</td>\n",
       "      <td>Ridley Scott</td>\n",
       "      <td>Comedy</td>\n",
       "    </tr>\n",
       "    <tr>\n",
       "      <th>2</th>\n",
       "      <td>Bruce Willis</td>\n",
       "      <td>Clint Eastwood</td>\n",
       "      <td>Thriller</td>\n",
       "    </tr>\n",
       "  </tbody>\n",
       "</table>\n",
       "</div>"
      ],
      "text/plain": [
       "        popular_cast  popular_director popular_genres\n",
       "0     Robert De Niro  Steven Spielberg          Drama\n",
       "1  Samuel L. Jackson      Ridley Scott         Comedy\n",
       "2       Bruce Willis    Clint Eastwood       Thriller"
      ]
     },
     "execution_count": 65,
     "metadata": {},
     "output_type": "execute_result"
    }
   ],
   "source": [
    "# compare\n",
    "df_popular"
   ]
  },
  {
   "cell_type": "markdown",
   "metadata": {},
   "source": [
    "From the tabbles above, we can find that cast *Michael Caine* is appeared in both popular and unpopular movies; director *Woody Allen* and *Clint Eastwood* are appeared in both popular and unpopular movies; all three genres *Drama*, *Comedy*, *Thriller* are appeared in both popular and unpopular movies; *sex* is appeared in both popular and unpopular movies; all three producer *Universal Pictures*, *Warner Bros*, *Paramount Pictures* are appeared in both popular and unpopular movies. The summary are as follows:\n",
    "\n",
    "\n",
    "- **Cast associated with high popularity movies**: `Robert De Niro` and `Bruce Willis`. It's really reasonable because I have seen a lot of promoted movies content which are performed by them in my country. On average I think they do have the huge popularity in past years!\n",
    "- **Director associated with high popularity movies**: `Steven Spielberg`. It's no doubt that he got the first place since he has won so many awards and honors for his high quality and popular work!\n",
    "- **Both of the most popular and unpopular movies are associated three mainly genres: Drama, Comedy, and Thriller.** I just can infer that these genres are common in the movie industry.\n",
    "- **Keywords associated with high popularity movies**: `based on novel` and `dystopia`. It' also no doubt it comes out the result. Especially the based on novel movies, since nowadays tons of movies are made based on novel like Harry Potter, The Hunger Games etc, and they were also famous in my country.\n",
    "- **Producer associated with high popularity movies and unpopularity movies**: `Warner Bros.`, `Universal Pictures` and `Paramount Pictures`. The three giants of movie indusry did produce such a various quality movies!\n"
   ]
  },
  {
   "cell_type": "markdown",
   "metadata": {},
   "source": [
    "**First, choose the dataset-df_top_s. It is the dateframe about top 100 high voting score movies in each year.**"
   ]
  },
  {
   "cell_type": "code",
   "execution_count": 66,
   "metadata": {},
   "outputs": [
    {
     "data": {
      "text/html": [
       "<div>\n",
       "<style>\n",
       "    .dataframe thead tr:only-child th {\n",
       "        text-align: right;\n",
       "    }\n",
       "\n",
       "    .dataframe thead th {\n",
       "        text-align: left;\n",
       "    }\n",
       "\n",
       "    .dataframe tbody tr th {\n",
       "        vertical-align: top;\n",
       "    }\n",
       "</style>\n",
       "<table border=\"1\" class=\"dataframe\">\n",
       "  <thead>\n",
       "    <tr style=\"text-align: right;\">\n",
       "      <th></th>\n",
       "      <th>original_title</th>\n",
       "      <th>genres</th>\n",
       "      <th>director</th>\n",
       "      <th>cast</th>\n",
       "      <th>release_year</th>\n",
       "      <th>budget</th>\n",
       "      <th>revenue</th>\n",
       "      <th>profit</th>\n",
       "      <th>runtime</th>\n",
       "      <th>vote_count</th>\n",
       "      <th>vote_average</th>\n",
       "      <th>popularity</th>\n",
       "      <th>total_vote_point</th>\n",
       "    </tr>\n",
       "  </thead>\n",
       "  <tbody>\n",
       "    <tr>\n",
       "      <th>0</th>\n",
       "      <td>Psycho</td>\n",
       "      <td>Drama|Horror|Thriller</td>\n",
       "      <td>Alfred Hitchcock</td>\n",
       "      <td>Anthony Perkins|Vera Miles|John Gavin|Janet Le...</td>\n",
       "      <td>1960</td>\n",
       "      <td>806948</td>\n",
       "      <td>32000000</td>\n",
       "      <td>31193052</td>\n",
       "      <td>109</td>\n",
       "      <td>1180</td>\n",
       "      <td>8.0</td>\n",
       "      <td>2.610362</td>\n",
       "      <td>9440.0</td>\n",
       "    </tr>\n",
       "    <tr>\n",
       "      <th>1</th>\n",
       "      <td>The Apartment</td>\n",
       "      <td>Comedy|Drama|Romance</td>\n",
       "      <td>Billy Wilder</td>\n",
       "      <td>Jack Lemmon|Shirley MacLaine|Fred MacMurray|Ra...</td>\n",
       "      <td>1960</td>\n",
       "      <td>3000000</td>\n",
       "      <td>25000000</td>\n",
       "      <td>22000000</td>\n",
       "      <td>125</td>\n",
       "      <td>235</td>\n",
       "      <td>7.9</td>\n",
       "      <td>0.947307</td>\n",
       "      <td>1856.5</td>\n",
       "    </tr>\n",
       "  </tbody>\n",
       "</table>\n",
       "</div>"
      ],
      "text/plain": [
       "  original_title                 genres          director  \\\n",
       "0         Psycho  Drama|Horror|Thriller  Alfred Hitchcock   \n",
       "1  The Apartment   Comedy|Drama|Romance      Billy Wilder   \n",
       "\n",
       "                                                cast  release_year   budget  \\\n",
       "0  Anthony Perkins|Vera Miles|John Gavin|Janet Le...          1960   806948   \n",
       "1  Jack Lemmon|Shirley MacLaine|Fred MacMurray|Ra...          1960  3000000   \n",
       "\n",
       "    revenue    profit  runtime  vote_count  vote_average  popularity  \\\n",
       "0  32000000  31193052      109        1180           8.0    2.610362   \n",
       "1  25000000  22000000      125         235           7.9    0.947307   \n",
       "\n",
       "   total_vote_point  \n",
       "0            9440.0  \n",
       "1            1856.5  "
      ]
     },
     "execution_count": 66,
     "metadata": {},
     "output_type": "execute_result"
    }
   ],
   "source": [
    "df_top_s.head(2)"
   ]
  },
  {
   "cell_type": "markdown",
   "metadata": {},
   "source": [
    "**Then, find the three highest occurrences in each category among the top 100 high voting score movies. And store the result table into variables in order to create a summary table.**"
   ]
  },
  {
   "cell_type": "code",
   "execution_count": 67,
   "metadata": {
    "collapsed": true
   },
   "outputs": [],
   "source": [
    "# find top three director\n",
    "a = find_top(df_top_s.director)\n",
    "\n",
    "# find top three genres\n",
    "c = find_top(df_top_s.genres)"
   ]
  },
  {
   "cell_type": "markdown",
   "metadata": {},
   "source": [
    "**Use the result above to create a summary table.**"
   ]
  },
  {
   "cell_type": "code",
   "execution_count": 68,
   "metadata": {
    "scrolled": false
   },
   "outputs": [
    {
     "data": {
      "text/html": [
       "<div>\n",
       "<style>\n",
       "    .dataframe thead tr:only-child th {\n",
       "        text-align: right;\n",
       "    }\n",
       "\n",
       "    .dataframe thead th {\n",
       "        text-align: left;\n",
       "    }\n",
       "\n",
       "    .dataframe tbody tr th {\n",
       "        vertical-align: top;\n",
       "    }\n",
       "</style>\n",
       "<table border=\"1\" class=\"dataframe\">\n",
       "  <thead>\n",
       "    <tr style=\"text-align: right;\">\n",
       "      <th></th>\n",
       "      <th>high_score_director</th>\n",
       "      <th>high_score_genres</th>\n",
       "      <th>high_score_keywords</th>\n",
       "    </tr>\n",
       "  </thead>\n",
       "  <tbody>\n",
       "    <tr>\n",
       "      <th>0</th>\n",
       "      <td>Steven Spielberg</td>\n",
       "      <td>Drama</td>\n",
       "      <td>Steven Spielberg</td>\n",
       "    </tr>\n",
       "    <tr>\n",
       "      <th>1</th>\n",
       "      <td>Clint Eastwood</td>\n",
       "      <td>Comedy</td>\n",
       "      <td>Ridley Scott</td>\n",
       "    </tr>\n",
       "    <tr>\n",
       "      <th>2</th>\n",
       "      <td>Ridley Scott</td>\n",
       "      <td>Thriller</td>\n",
       "      <td>Clint Eastwood</td>\n",
       "    </tr>\n",
       "  </tbody>\n",
       "</table>\n",
       "</div>"
      ],
      "text/plain": [
       "  high_score_director high_score_genres high_score_keywords\n",
       "0    Steven Spielberg             Drama    Steven Spielberg\n",
       "1      Clint Eastwood            Comedy        Ridley Scott\n",
       "2        Ridley Scott          Thriller      Clint Eastwood"
      ]
     },
     "execution_count": 68,
     "metadata": {},
     "output_type": "execute_result"
    }
   ],
   "source": [
    "#create a summary dataframe.\n",
    "df_high_score = pd.DataFrame({'high_score_director': a.index, 'high_score_keywords': b.index, 'high_score_genres': c.index})\n",
    "df_high_score"
   ]
  },
  {
   "cell_type": "markdown",
   "metadata": {},
   "source": [
    "**Finally, find the three highest occurrences in each category of the worst 100 rating score movies.**"
   ]
  },
  {
   "cell_type": "code",
   "execution_count": 69,
   "metadata": {},
   "outputs": [
    {
     "data": {
      "text/html": [
       "<div>\n",
       "<style>\n",
       "    .dataframe thead tr:only-child th {\n",
       "        text-align: right;\n",
       "    }\n",
       "\n",
       "    .dataframe thead th {\n",
       "        text-align: left;\n",
       "    }\n",
       "\n",
       "    .dataframe tbody tr th {\n",
       "        vertical-align: top;\n",
       "    }\n",
       "</style>\n",
       "<table border=\"1\" class=\"dataframe\">\n",
       "  <thead>\n",
       "    <tr style=\"text-align: right;\">\n",
       "      <th></th>\n",
       "      <th>original_title</th>\n",
       "      <th>genres</th>\n",
       "      <th>director</th>\n",
       "      <th>cast</th>\n",
       "      <th>release_year</th>\n",
       "      <th>budget</th>\n",
       "      <th>revenue</th>\n",
       "      <th>profit</th>\n",
       "      <th>runtime</th>\n",
       "      <th>vote_count</th>\n",
       "      <th>vote_average</th>\n",
       "      <th>popularity</th>\n",
       "      <th>total_vote_point</th>\n",
       "    </tr>\n",
       "  </thead>\n",
       "  <tbody>\n",
       "    <tr>\n",
       "      <th>0</th>\n",
       "      <td>Spartacus</td>\n",
       "      <td>Action|Drama|History</td>\n",
       "      <td>Stanley Kubrick</td>\n",
       "      <td>Kirk Douglas|Laurence Olivier|Jean Simmons|Cha...</td>\n",
       "      <td>1960</td>\n",
       "      <td>12000000</td>\n",
       "      <td>60000000</td>\n",
       "      <td>48000000</td>\n",
       "      <td>197</td>\n",
       "      <td>211</td>\n",
       "      <td>6.9</td>\n",
       "      <td>1.136943</td>\n",
       "      <td>1455.9</td>\n",
       "    </tr>\n",
       "    <tr>\n",
       "      <th>1</th>\n",
       "      <td>The Magnificent Seven</td>\n",
       "      <td>Action|Adventure|Western</td>\n",
       "      <td>John Sturges</td>\n",
       "      <td>Yul Brynner|Eli Wallach|Steve McQueen|Charles ...</td>\n",
       "      <td>1960</td>\n",
       "      <td>2000000</td>\n",
       "      <td>4905000</td>\n",
       "      <td>2905000</td>\n",
       "      <td>128</td>\n",
       "      <td>224</td>\n",
       "      <td>7.0</td>\n",
       "      <td>1.872132</td>\n",
       "      <td>1568.0</td>\n",
       "    </tr>\n",
       "  </tbody>\n",
       "</table>\n",
       "</div>"
      ],
      "text/plain": [
       "          original_title                    genres         director  \\\n",
       "0              Spartacus      Action|Drama|History  Stanley Kubrick   \n",
       "1  The Magnificent Seven  Action|Adventure|Western     John Sturges   \n",
       "\n",
       "                                                cast  release_year    budget  \\\n",
       "0  Kirk Douglas|Laurence Olivier|Jean Simmons|Cha...          1960  12000000   \n",
       "1  Yul Brynner|Eli Wallach|Steve McQueen|Charles ...          1960   2000000   \n",
       "\n",
       "    revenue    profit  runtime  vote_count  vote_average  popularity  \\\n",
       "0  60000000  48000000      197         211           6.9    1.136943   \n",
       "1   4905000   2905000      128         224           7.0    1.872132   \n",
       "\n",
       "   total_vote_point  \n",
       "0            1455.9  \n",
       "1            1568.0  "
      ]
     },
     "execution_count": 69,
     "metadata": {},
     "output_type": "execute_result"
    }
   ],
   "source": [
    "# call the dataset wiht the 100 low rating movies in each year\n",
    "df_low_s.head(2)"
   ]
  },
  {
   "cell_type": "code",
   "execution_count": 70,
   "metadata": {
    "collapsed": true
   },
   "outputs": [],
   "source": [
    "# find top three director among the among the 100 low rating movies\n",
    "na = find_top(df_low_s.director)\n",
    "\n",
    "# find top three genres among the among the 100 low rating movies\n",
    "nc = find_top(df_low_s.genres)"
   ]
  },
  {
   "cell_type": "markdown",
   "metadata": {},
   "source": [
    "Use the result above to create a summary table."
   ]
  },
  {
   "cell_type": "code",
   "execution_count": 71,
   "metadata": {
    "scrolled": true
   },
   "outputs": [
    {
     "data": {
      "text/html": [
       "<div>\n",
       "<style>\n",
       "    .dataframe thead tr:only-child th {\n",
       "        text-align: right;\n",
       "    }\n",
       "\n",
       "    .dataframe thead th {\n",
       "        text-align: left;\n",
       "    }\n",
       "\n",
       "    .dataframe tbody tr th {\n",
       "        vertical-align: top;\n",
       "    }\n",
       "</style>\n",
       "<table border=\"1\" class=\"dataframe\">\n",
       "  <thead>\n",
       "    <tr style=\"text-align: right;\">\n",
       "      <th></th>\n",
       "      <th>low_score_director</th>\n",
       "      <th>low_score_genres</th>\n",
       "    </tr>\n",
       "  </thead>\n",
       "  <tbody>\n",
       "    <tr>\n",
       "      <th>0</th>\n",
       "      <td>Steven Spielberg</td>\n",
       "      <td>Drama</td>\n",
       "    </tr>\n",
       "    <tr>\n",
       "      <th>1</th>\n",
       "      <td>Clint Eastwood</td>\n",
       "      <td>Comedy</td>\n",
       "    </tr>\n",
       "    <tr>\n",
       "      <th>2</th>\n",
       "      <td>Oliver Stone</td>\n",
       "      <td>Thriller</td>\n",
       "    </tr>\n",
       "  </tbody>\n",
       "</table>\n",
       "</div>"
      ],
      "text/plain": [
       "  low_score_director low_score_genres\n",
       "0   Steven Spielberg            Drama\n",
       "1     Clint Eastwood           Comedy\n",
       "2       Oliver Stone         Thriller"
      ]
     },
     "execution_count": 71,
     "metadata": {},
     "output_type": "execute_result"
    }
   ],
   "source": [
    "df_low_score = pd.DataFrame({'low_score_director': na.index, 'low_score_genres': nc.index})\n",
    "df_low_score"
   ]
  },
  {
   "cell_type": "code",
   "execution_count": 72,
   "metadata": {},
   "outputs": [
    {
     "data": {
      "text/html": [
       "<div>\n",
       "<style>\n",
       "    .dataframe thead tr:only-child th {\n",
       "        text-align: right;\n",
       "    }\n",
       "\n",
       "    .dataframe thead th {\n",
       "        text-align: left;\n",
       "    }\n",
       "\n",
       "    .dataframe tbody tr th {\n",
       "        vertical-align: top;\n",
       "    }\n",
       "</style>\n",
       "<table border=\"1\" class=\"dataframe\">\n",
       "  <thead>\n",
       "    <tr style=\"text-align: right;\">\n",
       "      <th></th>\n",
       "      <th>high_score_director</th>\n",
       "      <th>high_score_genres</th>\n",
       "      <th>high_score_keywords</th>\n",
       "    </tr>\n",
       "  </thead>\n",
       "  <tbody>\n",
       "    <tr>\n",
       "      <th>0</th>\n",
       "      <td>Steven Spielberg</td>\n",
       "      <td>Drama</td>\n",
       "      <td>Steven Spielberg</td>\n",
       "    </tr>\n",
       "    <tr>\n",
       "      <th>1</th>\n",
       "      <td>Clint Eastwood</td>\n",
       "      <td>Comedy</td>\n",
       "      <td>Ridley Scott</td>\n",
       "    </tr>\n",
       "    <tr>\n",
       "      <th>2</th>\n",
       "      <td>Ridley Scott</td>\n",
       "      <td>Thriller</td>\n",
       "      <td>Clint Eastwood</td>\n",
       "    </tr>\n",
       "  </tbody>\n",
       "</table>\n",
       "</div>"
      ],
      "text/plain": [
       "  high_score_director high_score_genres high_score_keywords\n",
       "0    Steven Spielberg             Drama    Steven Spielberg\n",
       "1      Clint Eastwood            Comedy        Ridley Scott\n",
       "2        Ridley Scott          Thriller      Clint Eastwood"
      ]
     },
     "execution_count": 72,
     "metadata": {},
     "output_type": "execute_result"
    }
   ],
   "source": [
    "# compare\n",
    "df_high_score"
   ]
  },
  {
   "cell_type": "markdown",
   "metadata": {},
   "source": [
    "<b>\n",
    "After summing up both tables above, we can find that:\n",
    "1. Martin Scorsese and Clint Eastwood have made top quality movies on average over the past years from 1960.\n",
    "2. The top quality movies have the keywords with *based on novel* and *woman director* over the past years from 1960. The *based on novel* keyword are also with the top popular movies, but the result of woman director amazed me! \n",
    "    </b>"
   ]
  },
  {
   "cell_type": "markdown",
   "metadata": {},
   "source": [
    "## Part 2 Question Explore Summary"
   ]
  },
  {
   "cell_type": "markdown",
   "metadata": {},
   "source": [
    "For the properties are associated with high popularity movies, they are **high budget levels** and **longer run time**. And `cast` associated with high popularity movies are **Robert De Niro** and **Bruce Willis**; `director` associated with high popularity movies are **Steven Spielberg**; `genres` associated with high popularity movies are **drama**, **comedy**, and **thriller** but they also appeared in the most unpopular movies; `keywords` associated with high popularity movies are based on **novel** and **dystopia**; `producer` associated with high popularity movies are **Warner Bros.**, **Universal Pictures** and **Paramount Pictures**, but they are also appeared in the most unpopular movies."
   ]
  },
  {
   "cell_type": "markdown",
   "metadata": {},
   "source": [
    "<a id='conclusions'></a>\n",
    "## Conclusions\n",
    "\n",
    "The goal in the research is primary to explore three parts questions:\n",
    "\n",
    "** Part one: General Explore**\n",
    "    \n",
    "   At part one, I explored some general questions. The result turned out that the movie popularity trend is growing from 1960 on average. Moreever, I focused on the movies which are with high revenue. I found movies with higher revenue level are with higher popularity in recent five years on average. Besides, movies with higher revenue level don't have the significant high score rating in recent five years. And this results made me want to learn more: What's properties that are associated with high popularity movies? What's properties that are associated with high voting score?\n",
    "    \n",
    "** Part two: Find the Properties are Associated with Successful Movies**\n",
    "   \n",
    "   At this part, I found out the properties that are associated with high popularity movies. They were with high budget levels and longer run time.  And cast associated with high popularity movies are Robert De Niro and Bruce Willis; director associated with high popularity movies are Steven Spielberg; genres associated with high popularity movies are drama, comedy, and thriller but they also appeared in the most unpopular movies; keywords associated with high popularity movies are based on novel and dystopia; producer associated with high popularity movies are Warner Bros., Universal Pictures and Paramount Pictures, but they are also appeared in the most unpopular movies.\n",
    "\n",
    "   To sum up, I did find a lot of interesting information among the dataset, just hope that I can dig more! But there are still some limitations."
   ]
  },
  {
   "cell_type": "markdown",
   "metadata": {},
   "source": [
    "## Limitation\n",
    "1. Data quality: althought I assume the zero values in revenue and budget column are missing, there are still a lot of unreasonable small/big value in the both of the columns. Also, the metrics about rating or popularity are not defined clearly, and the basis of them may be changing year by year.\n",
    "2. Although the the `popularity` doesn't have the upperbound , it actually have the high probability of having outliers. But I choose to retain the data to keep the data originalty. Maybe there are still the reason that I should take it into account.\n",
    "2. Units of revenue and budget column: I am not sure that the budgets and revenues all in US dollars? \n",
    "3. The inflation effect: I used the revenue and budget data to explore, but I didn't use the adjusted data, although it is provided the adjusted data based on the year 2010.\n",
    "4. In my reseach one, although I discussed the distribution of popularity in different revenue levels in recent five years, but I just cut the revenue levels based on it's quantile. I didn't find out the whole revenue distributin in the fisrt, so there may be exist risks that the high revenue level still cover a wide of range, and may affect the final result. Besides, in the part, I just discuss data in the recent five year, maybe in other year there are some different distribution.\n",
    "5. In research two, I dicussed the properties are associated with successful movies. The successful I defined here are high popularity and high voting score. But I didn't find the properties of high revenue since I just assume the high revenue level are with higher popularity, which is I found in research one, so it makes me just leave out the finding the properties of high revenue movie. But I think there must be some other factor that are associated with high revenue movies.\n",
    "6. In research two, I dicussed the budget level and runtime level properties, but I just cut both of them based on the whole time quantile data not year by year. Also, to cut them into four levels based on quantile still rough.\n",
    "7. The categorical data, when I analysed them, I just split them one by one, and count them one by one. But the thing is, there must be some effect when these words combine. For example, the keyword `based on novel` is popular, but what truly keyword that makes the movie sucess maybe the `based on novel`&`adventure`. \n",
    "8. I didn't count number of votes into consideration, so the rating score may be a bias whe the vote number is few."
   ]
  },
  {
   "cell_type": "code",
   "execution_count": 73,
   "metadata": {},
   "outputs": [
    {
     "data": {
      "text/plain": [
       "0"
      ]
     },
     "execution_count": 73,
     "metadata": {},
     "output_type": "execute_result"
    }
   ],
   "source": [
    "from subprocess import call\n",
    "call(['python', '-m', 'nbconvert', 'Investigate_a_Dataset.ipynb'])"
   ]
  }
 ],
 "metadata": {
  "kernelspec": {
   "display_name": "Python 3",
   "language": "python",
   "name": "python3"
  },
  "language_info": {
   "codemirror_mode": {
    "name": "ipython",
    "version": 3
   },
   "file_extension": ".py",
   "mimetype": "text/x-python",
   "name": "python",
   "nbconvert_exporter": "python",
   "pygments_lexer": "ipython3",
   "version": "3.6.3"
  }
 },
 "nbformat": 4,
 "nbformat_minor": 2
}
